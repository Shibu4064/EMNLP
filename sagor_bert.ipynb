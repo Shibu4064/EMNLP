{
  "cells": [
    {
      "cell_type": "markdown",
      "metadata": {
        "id": "view-in-github",
        "colab_type": "text"
      },
      "source": [
        "<a href=\"https://colab.research.google.com/github/Shibu4064/EMNLP/blob/main/sagor_bert.ipynb\" target=\"_parent\"><img src=\"https://colab.research.google.com/assets/colab-badge.svg\" alt=\"Open In Colab\"/></a>"
      ]
    },
    {
      "cell_type": "code",
      "execution_count": 1,
      "metadata": {
        "id": "pabhBoSGHG_U",
        "colab": {
          "base_uri": "https://localhost:8080/"
        },
        "outputId": "7c5a596e-4614-4559-9454-917afa91beae"
      },
      "outputs": [
        {
          "output_type": "stream",
          "name": "stdout",
          "text": [
            "Mounted at /content/drive\n"
          ]
        }
      ],
      "source": [
        "from google.colab import drive\n",
        "drive.mount('/content/drive')"
      ]
    },
    {
      "cell_type": "code",
      "execution_count": 2,
      "metadata": {
        "id": "hDDFqKXKwZAV"
      },
      "outputs": [],
      "source": [
        "%%capture\n",
        "!pip install transformers datasets\n",
        "!pip install transformers\n",
        "!pip install transformers[torch]\n",
        "!pip install transformers[tf-cpu]\n",
        "!pip install transformers[flax]\n",
        "!pip install torch\n",
        "!pip install tensorflow\n",
        "!pip install evaluate"
      ]
    },
    {
      "cell_type": "code",
      "execution_count": 3,
      "metadata": {
        "id": "4pvupP175bYx"
      },
      "outputs": [],
      "source": [
        "#import pandas as pd\n",
        "train_df = pd.read_csv('/content/drive/MyDrive/EMNLP/train.csv') # train set\n",
        "val_df = pd.read_csv('/content/drive/MyDrive/EMNLP/dev.csv') # validation set"
      ]
    },
    {
      "cell_type": "code",
      "source": [
        "print(len(train_df), len(val_df))"
      ],
      "metadata": {
        "colab": {
          "base_uri": "https://localhost:8080/"
        },
        "id": "2aGxcG683mel",
        "outputId": "cf65f735-c9e6-4627-856f-2e0c1364cbfe"
      },
      "execution_count": 4,
      "outputs": [
        {
          "output_type": "stream",
          "name": "stdout",
          "text": [
            "2700 1330\n"
          ]
        }
      ]
    },
    {
      "cell_type": "code",
      "execution_count": 5,
      "metadata": {
        "colab": {
          "base_uri": "https://localhost:8080/"
        },
        "id": "mUJGSwYOFVgH",
        "outputId": "3371e3bd-7254-484a-d04c-e8eef54acaf9"
      },
      "outputs": [
        {
          "output_type": "execute_result",
          "data": {
            "text/plain": [
              "Index(['text', 'label'], dtype='object')"
            ]
          },
          "metadata": {},
          "execution_count": 5
        }
      ],
      "source": [
        "train_df.columns"
      ]
    },
    {
      "cell_type": "code",
      "execution_count": 6,
      "metadata": {
        "colab": {
          "base_uri": "https://localhost:8080/",
          "height": 424
        },
        "id": "PEaHE6SKF1hA",
        "outputId": "2a61065e-11fc-43e8-c2b1-d74674c89ab8"
      },
      "outputs": [
        {
          "output_type": "execute_result",
          "data": {
            "text/plain": [
              "                                                   text  label\n",
              "0     যে দেশে সন্ত্রাসরা দেশ চালায়সে দেশে শান্তি কিভ...      1\n",
              "1     এই বিচার শেষ বিচার নয়।আসল বিচার হবে আল্লাহর আদ...      0\n",
              "2     আরব দেশগুলোকে বলব ভারতের সাথে সব ব্যবসা বাণিজ্...      2\n",
              "3                                       দেশটা সুস্থ নাই      0\n",
              "4     আপনার কথা দুঃখ জনক আগে বিডিও থাকলে কেন ধরা হলন...      0\n",
              "...                                                 ...    ...\n",
              "2695       হল বন্ধ করার আগে নিউমার্কেট বন্ধ করা উচিৎ,,।      2\n",
              "2696  এ স্বাধীন দেশে ভোটটা অন্ততঃ আমাদের দিতে দেন।জা...      0\n",
              "2697  আল হামদুলিল্লাহ্...প্রিয় ভিউয়ার্স আপনাদের ভালব...      0\n",
              "2698        এই গুলা ত বিচার করবায় ঐ তোমরা ত ইন্ডিয়ান না      0\n",
              "2699  ফি আমানিল্লাহ। বাংলার জমিনে হযরত মুহাম্মদ সাঃ ...      2\n",
              "\n",
              "[2700 rows x 2 columns]"
            ],
            "text/html": [
              "\n",
              "\n",
              "  <div id=\"df-b0801d3a-332c-472f-ba25-788a95b2e9fe\">\n",
              "    <div class=\"colab-df-container\">\n",
              "      <div>\n",
              "<style scoped>\n",
              "    .dataframe tbody tr th:only-of-type {\n",
              "        vertical-align: middle;\n",
              "    }\n",
              "\n",
              "    .dataframe tbody tr th {\n",
              "        vertical-align: top;\n",
              "    }\n",
              "\n",
              "    .dataframe thead th {\n",
              "        text-align: right;\n",
              "    }\n",
              "</style>\n",
              "<table border=\"1\" class=\"dataframe\">\n",
              "  <thead>\n",
              "    <tr style=\"text-align: right;\">\n",
              "      <th></th>\n",
              "      <th>text</th>\n",
              "      <th>label</th>\n",
              "    </tr>\n",
              "  </thead>\n",
              "  <tbody>\n",
              "    <tr>\n",
              "      <th>0</th>\n",
              "      <td>যে দেশে সন্ত্রাসরা দেশ চালায়সে দেশে শান্তি কিভ...</td>\n",
              "      <td>1</td>\n",
              "    </tr>\n",
              "    <tr>\n",
              "      <th>1</th>\n",
              "      <td>এই বিচার শেষ বিচার নয়।আসল বিচার হবে আল্লাহর আদ...</td>\n",
              "      <td>0</td>\n",
              "    </tr>\n",
              "    <tr>\n",
              "      <th>2</th>\n",
              "      <td>আরব দেশগুলোকে বলব ভারতের সাথে সব ব্যবসা বাণিজ্...</td>\n",
              "      <td>2</td>\n",
              "    </tr>\n",
              "    <tr>\n",
              "      <th>3</th>\n",
              "      <td>দেশটা সুস্থ নাই</td>\n",
              "      <td>0</td>\n",
              "    </tr>\n",
              "    <tr>\n",
              "      <th>4</th>\n",
              "      <td>আপনার কথা দুঃখ জনক আগে বিডিও থাকলে কেন ধরা হলন...</td>\n",
              "      <td>0</td>\n",
              "    </tr>\n",
              "    <tr>\n",
              "      <th>...</th>\n",
              "      <td>...</td>\n",
              "      <td>...</td>\n",
              "    </tr>\n",
              "    <tr>\n",
              "      <th>2695</th>\n",
              "      <td>হল বন্ধ করার আগে নিউমার্কেট বন্ধ করা উচিৎ,,।</td>\n",
              "      <td>2</td>\n",
              "    </tr>\n",
              "    <tr>\n",
              "      <th>2696</th>\n",
              "      <td>এ স্বাধীন দেশে ভোটটা অন্ততঃ আমাদের দিতে দেন।জা...</td>\n",
              "      <td>0</td>\n",
              "    </tr>\n",
              "    <tr>\n",
              "      <th>2697</th>\n",
              "      <td>আল হামদুলিল্লাহ্...প্রিয় ভিউয়ার্স আপনাদের ভালব...</td>\n",
              "      <td>0</td>\n",
              "    </tr>\n",
              "    <tr>\n",
              "      <th>2698</th>\n",
              "      <td>এই গুলা ত বিচার করবায় ঐ তোমরা ত ইন্ডিয়ান না</td>\n",
              "      <td>0</td>\n",
              "    </tr>\n",
              "    <tr>\n",
              "      <th>2699</th>\n",
              "      <td>ফি আমানিল্লাহ। বাংলার জমিনে হযরত মুহাম্মদ সাঃ ...</td>\n",
              "      <td>2</td>\n",
              "    </tr>\n",
              "  </tbody>\n",
              "</table>\n",
              "<p>2700 rows × 2 columns</p>\n",
              "</div>\n",
              "      <button class=\"colab-df-convert\" onclick=\"convertToInteractive('df-b0801d3a-332c-472f-ba25-788a95b2e9fe')\"\n",
              "              title=\"Convert this dataframe to an interactive table.\"\n",
              "              style=\"display:none;\">\n",
              "\n",
              "  <svg xmlns=\"http://www.w3.org/2000/svg\" height=\"24px\"viewBox=\"0 0 24 24\"\n",
              "       width=\"24px\">\n",
              "    <path d=\"M0 0h24v24H0V0z\" fill=\"none\"/>\n",
              "    <path d=\"M18.56 5.44l.94 2.06.94-2.06 2.06-.94-2.06-.94-.94-2.06-.94 2.06-2.06.94zm-11 1L8.5 8.5l.94-2.06 2.06-.94-2.06-.94L8.5 2.5l-.94 2.06-2.06.94zm10 10l.94 2.06.94-2.06 2.06-.94-2.06-.94-.94-2.06-.94 2.06-2.06.94z\"/><path d=\"M17.41 7.96l-1.37-1.37c-.4-.4-.92-.59-1.43-.59-.52 0-1.04.2-1.43.59L10.3 9.45l-7.72 7.72c-.78.78-.78 2.05 0 2.83L4 21.41c.39.39.9.59 1.41.59.51 0 1.02-.2 1.41-.59l7.78-7.78 2.81-2.81c.8-.78.8-2.07 0-2.86zM5.41 20L4 18.59l7.72-7.72 1.47 1.35L5.41 20z\"/>\n",
              "  </svg>\n",
              "      </button>\n",
              "\n",
              "\n",
              "\n",
              "    <div id=\"df-fba3a6c5-3bdc-4075-9730-5b04f4805861\">\n",
              "      <button class=\"colab-df-quickchart\" onclick=\"quickchart('df-fba3a6c5-3bdc-4075-9730-5b04f4805861')\"\n",
              "              title=\"Suggest charts.\"\n",
              "              style=\"display:none;\">\n",
              "\n",
              "<svg xmlns=\"http://www.w3.org/2000/svg\" height=\"24px\"viewBox=\"0 0 24 24\"\n",
              "     width=\"24px\">\n",
              "    <g>\n",
              "        <path d=\"M19 3H5c-1.1 0-2 .9-2 2v14c0 1.1.9 2 2 2h14c1.1 0 2-.9 2-2V5c0-1.1-.9-2-2-2zM9 17H7v-7h2v7zm4 0h-2V7h2v10zm4 0h-2v-4h2v4z\"/>\n",
              "    </g>\n",
              "</svg>\n",
              "      </button>\n",
              "    </div>\n",
              "\n",
              "<style>\n",
              "  .colab-df-quickchart {\n",
              "    background-color: #E8F0FE;\n",
              "    border: none;\n",
              "    border-radius: 50%;\n",
              "    cursor: pointer;\n",
              "    display: none;\n",
              "    fill: #1967D2;\n",
              "    height: 32px;\n",
              "    padding: 0 0 0 0;\n",
              "    width: 32px;\n",
              "  }\n",
              "\n",
              "  .colab-df-quickchart:hover {\n",
              "    background-color: #E2EBFA;\n",
              "    box-shadow: 0px 1px 2px rgba(60, 64, 67, 0.3), 0px 1px 3px 1px rgba(60, 64, 67, 0.15);\n",
              "    fill: #174EA6;\n",
              "  }\n",
              "\n",
              "  [theme=dark] .colab-df-quickchart {\n",
              "    background-color: #3B4455;\n",
              "    fill: #D2E3FC;\n",
              "  }\n",
              "\n",
              "  [theme=dark] .colab-df-quickchart:hover {\n",
              "    background-color: #434B5C;\n",
              "    box-shadow: 0px 1px 3px 1px rgba(0, 0, 0, 0.15);\n",
              "    filter: drop-shadow(0px 1px 2px rgba(0, 0, 0, 0.3));\n",
              "    fill: #FFFFFF;\n",
              "  }\n",
              "</style>\n",
              "\n",
              "    <script>\n",
              "      async function quickchart(key) {\n",
              "        const containerElement = document.querySelector('#' + key);\n",
              "        const charts = await google.colab.kernel.invokeFunction(\n",
              "            'suggestCharts', [key], {});\n",
              "      }\n",
              "    </script>\n",
              "\n",
              "      <script>\n",
              "\n",
              "function displayQuickchartButton(domScope) {\n",
              "  let quickchartButtonEl =\n",
              "    domScope.querySelector('#df-fba3a6c5-3bdc-4075-9730-5b04f4805861 button.colab-df-quickchart');\n",
              "  quickchartButtonEl.style.display =\n",
              "    google.colab.kernel.accessAllowed ? 'block' : 'none';\n",
              "}\n",
              "\n",
              "        displayQuickchartButton(document);\n",
              "      </script>\n",
              "      <style>\n",
              "    .colab-df-container {\n",
              "      display:flex;\n",
              "      flex-wrap:wrap;\n",
              "      gap: 12px;\n",
              "    }\n",
              "\n",
              "    .colab-df-convert {\n",
              "      background-color: #E8F0FE;\n",
              "      border: none;\n",
              "      border-radius: 50%;\n",
              "      cursor: pointer;\n",
              "      display: none;\n",
              "      fill: #1967D2;\n",
              "      height: 32px;\n",
              "      padding: 0 0 0 0;\n",
              "      width: 32px;\n",
              "    }\n",
              "\n",
              "    .colab-df-convert:hover {\n",
              "      background-color: #E2EBFA;\n",
              "      box-shadow: 0px 1px 2px rgba(60, 64, 67, 0.3), 0px 1px 3px 1px rgba(60, 64, 67, 0.15);\n",
              "      fill: #174EA6;\n",
              "    }\n",
              "\n",
              "    [theme=dark] .colab-df-convert {\n",
              "      background-color: #3B4455;\n",
              "      fill: #D2E3FC;\n",
              "    }\n",
              "\n",
              "    [theme=dark] .colab-df-convert:hover {\n",
              "      background-color: #434B5C;\n",
              "      box-shadow: 0px 1px 3px 1px rgba(0, 0, 0, 0.15);\n",
              "      filter: drop-shadow(0px 1px 2px rgba(0, 0, 0, 0.3));\n",
              "      fill: #FFFFFF;\n",
              "    }\n",
              "  </style>\n",
              "\n",
              "      <script>\n",
              "        const buttonEl =\n",
              "          document.querySelector('#df-b0801d3a-332c-472f-ba25-788a95b2e9fe button.colab-df-convert');\n",
              "        buttonEl.style.display =\n",
              "          google.colab.kernel.accessAllowed ? 'block' : 'none';\n",
              "\n",
              "        async function convertToInteractive(key) {\n",
              "          const element = document.querySelector('#df-b0801d3a-332c-472f-ba25-788a95b2e9fe');\n",
              "          const dataTable =\n",
              "            await google.colab.kernel.invokeFunction('convertToInteractive',\n",
              "                                                     [key], {});\n",
              "          if (!dataTable) return;\n",
              "\n",
              "          const docLinkHtml = 'Like what you see? Visit the ' +\n",
              "            '<a target=\"_blank\" href=https://colab.research.google.com/notebooks/data_table.ipynb>data table notebook</a>'\n",
              "            + ' to learn more about interactive tables.';\n",
              "          element.innerHTML = '';\n",
              "          dataTable['output_type'] = 'display_data';\n",
              "          await google.colab.output.renderOutput(dataTable, element);\n",
              "          const docLink = document.createElement('div');\n",
              "          docLink.innerHTML = docLinkHtml;\n",
              "          element.appendChild(docLink);\n",
              "        }\n",
              "      </script>\n",
              "    </div>\n",
              "  </div>\n"
            ]
          },
          "metadata": {},
          "execution_count": 6
        }
      ],
      "source": [
        "train_df"
      ]
    },
    {
      "cell_type": "code",
      "execution_count": 7,
      "metadata": {
        "id": "yfRf8eHy33tn"
      },
      "outputs": [],
      "source": [
        "from sklearn.model_selection import train_test_split\n",
        "def pandaToList(dataset):\n",
        "    text_list = []\n",
        "    label_list = []\n",
        "    for i in range(len(dataset['text'])):\n",
        "      text_list.append(dataset['text'][i])\n",
        "      label_list.append(int(dataset['label'][i]))\n",
        "    return text_list, label_list\n",
        "\n",
        "train_texts, train_labels =  pandaToList(train_df)\n",
        "val_texts, val_labels = pandaToList(val_df)"
      ]
    },
    {
      "cell_type": "code",
      "source": [
        "!pip uninstall jaxlib"
      ],
      "metadata": {
        "colab": {
          "base_uri": "https://localhost:8080/"
        },
        "id": "MWjsucFeabFS",
        "outputId": "87b6b7d5-bae5-49e2-95ea-955c68a1706c"
      },
      "execution_count": 8,
      "outputs": [
        {
          "output_type": "stream",
          "name": "stdout",
          "text": [
            "Found existing installation: jaxlib 0.4.13\n",
            "Uninstalling jaxlib-0.4.13:\n",
            "  Would remove:\n",
            "    /usr/local/lib/python3.10/dist-packages/jaxlib-0.4.13.dist-info/*\n",
            "    /usr/local/lib/python3.10/dist-packages/jaxlib/*\n",
            "Proceed (Y/n)? y\n",
            "  Successfully uninstalled jaxlib-0.4.13\n"
          ]
        }
      ]
    },
    {
      "cell_type": "code",
      "source": [
        "!pip install -U jax jaxlib"
      ],
      "metadata": {
        "colab": {
          "base_uri": "https://localhost:8080/"
        },
        "id": "Exm3Ezl7T_Pp",
        "outputId": "aedfa026-a5f4-48bc-e2ed-8ef8a59f227d"
      },
      "execution_count": 9,
      "outputs": [
        {
          "output_type": "stream",
          "name": "stdout",
          "text": [
            "Requirement already satisfied: jax in /usr/local/lib/python3.10/dist-packages (0.4.13)\n",
            "Collecting jax\n",
            "  Downloading jax-0.4.14.tar.gz (1.3 MB)\n",
            "\u001b[2K     \u001b[90m━━━━━━━━━━━━━━━━━━━━━━━━━━━━━━━━━━━━━━━━\u001b[0m \u001b[32m1.3/1.3 MB\u001b[0m \u001b[31m9.1 MB/s\u001b[0m eta \u001b[36m0:00:00\u001b[0m\n",
            "\u001b[?25h  Installing build dependencies ... \u001b[?25l\u001b[?25hdone\n",
            "  Getting requirements to build wheel ... \u001b[?25l\u001b[?25hdone\n",
            "  Preparing metadata (pyproject.toml) ... \u001b[?25l\u001b[?25hdone\n",
            "Collecting jaxlib\n",
            "  Downloading jaxlib-0.4.14-cp310-cp310-manylinux2014_x86_64.whl (73.7 MB)\n",
            "\u001b[2K     \u001b[90m━━━━━━━━━━━━━━━━━━━━━━━━━━━━━━━━━━━━━━━━\u001b[0m \u001b[32m73.7/73.7 MB\u001b[0m \u001b[31m9.8 MB/s\u001b[0m eta \u001b[36m0:00:00\u001b[0m\n",
            "\u001b[?25hRequirement already satisfied: ml-dtypes>=0.2.0 in /usr/local/lib/python3.10/dist-packages (from jax) (0.2.0)\n",
            "Requirement already satisfied: numpy>=1.22 in /usr/local/lib/python3.10/dist-packages (from jax) (1.23.5)\n",
            "Requirement already satisfied: opt-einsum in /usr/local/lib/python3.10/dist-packages (from jax) (3.3.0)\n",
            "Requirement already satisfied: scipy>=1.7 in /usr/local/lib/python3.10/dist-packages (from jax) (1.10.1)\n",
            "Building wheels for collected packages: jax\n",
            "  Building wheel for jax (pyproject.toml) ... \u001b[?25l\u001b[?25hdone\n",
            "  Created wheel for jax: filename=jax-0.4.14-py3-none-any.whl size=1535362 sha256=18a97bb3a5aff502c828c7df893661b7a7e9c2cf29a22eb6262b8b2ef2ec9eb2\n",
            "  Stored in directory: /root/.cache/pip/wheels/85/52/e7/dfa571c9f9b879e3facaa1584f52be04c4c3d1e14054ef40ab\n",
            "Successfully built jax\n",
            "Installing collected packages: jaxlib, jax\n",
            "  Attempting uninstall: jax\n",
            "    Found existing installation: jax 0.4.13\n",
            "    Uninstalling jax-0.4.13:\n",
            "      Successfully uninstalled jax-0.4.13\n",
            "Successfully installed jax-0.4.14 jaxlib-0.4.14\n"
          ]
        }
      ]
    },
    {
      "cell_type": "code",
      "execution_count": 17,
      "metadata": {
        "id": "X1eBQuLb5uH8"
      },
      "outputs": [],
      "source": [
        "#tokenizer_name = 'bert-base-multilingual-cased'\n",
        "#tokenizer_name='xlm-roberta-base'\n",
        "tokenizer_name=\"sagorsarker/bangla-bert-base\"\n",
        "from transformers import AutoTokenizer\n",
        "tokenizer = AutoTokenizer.from_pretrained(tokenizer_name, use_fast=True)"
      ]
    },
    {
      "cell_type": "code",
      "execution_count": 18,
      "metadata": {
        "id": "tHDmvMlE5-m3",
        "colab": {
          "base_uri": "https://localhost:8080/"
        },
        "outputId": "312ddfcb-3e90-4f69-d66f-2036a28bdfb5"
      },
      "outputs": [
        {
          "output_type": "stream",
          "name": "stderr",
          "text": [
            "Asking to truncate to max_length but no maximum length is provided and the model has no predefined maximum length. Default to no truncation.\n"
          ]
        }
      ],
      "source": [
        "train_encodings = tokenizer(train_texts, truncation=True, padding=True)\n",
        "val_encodings = tokenizer(val_texts, truncation=True, padding=True)\n"
      ]
    },
    {
      "cell_type": "code",
      "execution_count": 19,
      "metadata": {
        "id": "v0BNBtWr7jHm"
      },
      "outputs": [],
      "source": [
        "import torch\n",
        "\n",
        "class ViolenceDataset(torch.utils.data.Dataset):\n",
        "    def __init__(self, encodings, labels):\n",
        "        self.encodings = encodings\n",
        "        self.labels = labels\n",
        "\n",
        "    def __getitem__(self, idx):\n",
        "        item = {key: torch.tensor(val[idx]) for key, val in self.encodings.items()}\n",
        "        item['labels'] = torch.tensor(self.labels[idx])\n",
        "        return item\n",
        "\n",
        "    def __len__(self):\n",
        "        return len(self.labels)\n",
        "\n",
        "train_dataset = ViolenceDataset(train_encodings, train_labels)\n",
        "val_dataset = ViolenceDataset(val_encodings, val_labels)\n"
      ]
    },
    {
      "cell_type": "code",
      "execution_count": 20,
      "metadata": {
        "id": "nDP-moODv0cF"
      },
      "outputs": [],
      "source": [
        "from sklearn.metrics import accuracy_score, recall_score, precision_score, f1_score\n",
        "import numpy as np\n",
        "\n",
        "def compute_metrics(p):\n",
        "    pred, labels = p\n",
        "    pred = np.argmax(pred, axis=1)\n",
        "    accuracy = accuracy_score(y_true=labels, y_pred=pred)\n",
        "    recall = recall_score(y_true=labels, y_pred=pred, average='macro')\n",
        "    precision = precision_score(y_true=labels, y_pred=pred, average='macro')\n",
        "    f1 = f1_score(y_true=labels, y_pred=pred, average='macro')\n",
        "    return {\"accuracy\": accuracy, \"precision\": precision, \"recall\": recall, \"f1\": f1}"
      ]
    },
    {
      "cell_type": "code",
      "execution_count": 21,
      "metadata": {
        "colab": {
          "base_uri": "https://localhost:8080/",
          "height": 105,
          "referenced_widgets": [
            "37b144df4f16481ca8ad1704e00e2829",
            "578d8355225c4759aab816ada89272c4",
            "5406406190b04f1c8fc727897013257f",
            "860553b758ef49b1a109640cf25f32c9",
            "5214a9c0b1854c4383a42462f096a192",
            "6588cefd065844b68d8debb64e7edd98",
            "8f7f42d698274e7988701bc23676d278",
            "3341ea0a856c4b419012f4ff1da3cf52",
            "028f1dcd6b4848bdbadfa952f3a48ce9",
            "d68fa2bd84a14894945d944deb999573",
            "742a1adedb0647279c57dba0a489b60a"
          ]
        },
        "id": "0R_iCeubwZq6",
        "outputId": "258e0087-cf76-49af-8800-04e77d6405f2"
      },
      "outputs": [
        {
          "output_type": "display_data",
          "data": {
            "text/plain": [
              "Downloading model.safetensors:   0%|          | 0.00/660M [00:00<?, ?B/s]"
            ],
            "application/vnd.jupyter.widget-view+json": {
              "version_major": 2,
              "version_minor": 0,
              "model_id": "37b144df4f16481ca8ad1704e00e2829"
            }
          },
          "metadata": {}
        },
        {
          "output_type": "stream",
          "name": "stderr",
          "text": [
            "Some weights of BertForSequenceClassification were not initialized from the model checkpoint at sagorsarker/bangla-bert-base and are newly initialized: ['classifier.bias', 'classifier.weight']\n",
            "You should probably TRAIN this model on a down-stream task to be able to use it for predictions and inference.\n"
          ]
        }
      ],
      "source": [
        "from transformers import BertForSequenceClassification, Trainer, TrainingArguments, EarlyStoppingCallback, IntervalStrategy, AutoModelForSequenceClassification\n",
        "from transformers import AutoTokenizer, AutoModelForMaskedLM\n",
        "from transformers import BertTokenizer, BertModel\n",
        "training_args = TrainingArguments(\n",
        "   f\"training_with_callbacks\",\n",
        "   evaluation_strategy = IntervalStrategy.STEPS, # \"steps\"\n",
        "   #output_dir= output_dir,\n",
        "   eval_steps = 250, # Evaluation and Save happens every 250 steps\n",
        "   save_total_limit = 5, # Only last 5 models are saved. Older ones are deleted.\n",
        "\n",
        "   learning_rate=1e-5,\n",
        "   per_device_train_batch_size=8,\n",
        "   per_device_eval_batch_size=8,\n",
        "   num_train_epochs=50,\n",
        "   weight_decay=0.01,\n",
        "   metric_for_best_model = 'f1',\n",
        "   load_best_model_at_end=True)\n",
        "\n",
        "model_name = \"sagorsarker/bangla-bert-base\"\n",
        "model = AutoModelForSequenceClassification.from_pretrained(model_name, num_labels=3) ## change here for using another pretrained model\n",
        "\n",
        "trainer = Trainer(\n",
        "    model=model,                         # the instantiated Transformers model to be trained\n",
        "    args=training_args,                  # training arguments, defined above\n",
        "    train_dataset=train_dataset,         # training dataset\n",
        "    eval_dataset=val_dataset,            # evaluation dataset\n",
        "    compute_metrics=compute_metrics,\n",
        "    tokenizer=tokenizer,\n",
        "    callbacks = [EarlyStoppingCallback(early_stopping_patience=5)]\n",
        ")\n"
      ]
    },
    {
      "cell_type": "code",
      "source": [
        "model"
      ],
      "metadata": {
        "colab": {
          "base_uri": "https://localhost:8080/"
        },
        "id": "Rvr4QvyhZ30V",
        "outputId": "eecf5c55-b39f-4ad4-e8c5-fa9c95d8e0ed"
      },
      "execution_count": 22,
      "outputs": [
        {
          "output_type": "execute_result",
          "data": {
            "text/plain": [
              "BertForSequenceClassification(\n",
              "  (bert): BertModel(\n",
              "    (embeddings): BertEmbeddings(\n",
              "      (word_embeddings): Embedding(102025, 768, padding_idx=0)\n",
              "      (position_embeddings): Embedding(512, 768)\n",
              "      (token_type_embeddings): Embedding(2, 768)\n",
              "      (LayerNorm): LayerNorm((768,), eps=1e-12, elementwise_affine=True)\n",
              "      (dropout): Dropout(p=0.1, inplace=False)\n",
              "    )\n",
              "    (encoder): BertEncoder(\n",
              "      (layer): ModuleList(\n",
              "        (0-11): 12 x BertLayer(\n",
              "          (attention): BertAttention(\n",
              "            (self): BertSelfAttention(\n",
              "              (query): Linear(in_features=768, out_features=768, bias=True)\n",
              "              (key): Linear(in_features=768, out_features=768, bias=True)\n",
              "              (value): Linear(in_features=768, out_features=768, bias=True)\n",
              "              (dropout): Dropout(p=0.1, inplace=False)\n",
              "            )\n",
              "            (output): BertSelfOutput(\n",
              "              (dense): Linear(in_features=768, out_features=768, bias=True)\n",
              "              (LayerNorm): LayerNorm((768,), eps=1e-12, elementwise_affine=True)\n",
              "              (dropout): Dropout(p=0.1, inplace=False)\n",
              "            )\n",
              "          )\n",
              "          (intermediate): BertIntermediate(\n",
              "            (dense): Linear(in_features=768, out_features=3072, bias=True)\n",
              "            (intermediate_act_fn): GELUActivation()\n",
              "          )\n",
              "          (output): BertOutput(\n",
              "            (dense): Linear(in_features=3072, out_features=768, bias=True)\n",
              "            (LayerNorm): LayerNorm((768,), eps=1e-12, elementwise_affine=True)\n",
              "            (dropout): Dropout(p=0.1, inplace=False)\n",
              "          )\n",
              "        )\n",
              "      )\n",
              "    )\n",
              "    (pooler): BertPooler(\n",
              "      (dense): Linear(in_features=768, out_features=768, bias=True)\n",
              "      (activation): Tanh()\n",
              "    )\n",
              "  )\n",
              "  (dropout): Dropout(p=0.1, inplace=False)\n",
              "  (classifier): Linear(in_features=768, out_features=3, bias=True)\n",
              ")"
            ]
          },
          "metadata": {},
          "execution_count": 22
        }
      ]
    },
    {
      "cell_type": "code",
      "source": [
        "for name, param in model.named_parameters():\n",
        "    if param.requires_grad:\n",
        "        print(f\"{name} is trainable\")\n",
        "    else:\n",
        "        print(f\"{name} is non-trainable\")"
      ],
      "metadata": {
        "colab": {
          "base_uri": "https://localhost:8080/"
        },
        "id": "EeWd7So-beVE",
        "outputId": "822d40af-318a-49ca-f87f-d73c37c0b583"
      },
      "execution_count": 23,
      "outputs": [
        {
          "output_type": "stream",
          "name": "stdout",
          "text": [
            "bert.embeddings.word_embeddings.weight is trainable\n",
            "bert.embeddings.position_embeddings.weight is trainable\n",
            "bert.embeddings.token_type_embeddings.weight is trainable\n",
            "bert.embeddings.LayerNorm.weight is trainable\n",
            "bert.embeddings.LayerNorm.bias is trainable\n",
            "bert.encoder.layer.0.attention.self.query.weight is trainable\n",
            "bert.encoder.layer.0.attention.self.query.bias is trainable\n",
            "bert.encoder.layer.0.attention.self.key.weight is trainable\n",
            "bert.encoder.layer.0.attention.self.key.bias is trainable\n",
            "bert.encoder.layer.0.attention.self.value.weight is trainable\n",
            "bert.encoder.layer.0.attention.self.value.bias is trainable\n",
            "bert.encoder.layer.0.attention.output.dense.weight is trainable\n",
            "bert.encoder.layer.0.attention.output.dense.bias is trainable\n",
            "bert.encoder.layer.0.attention.output.LayerNorm.weight is trainable\n",
            "bert.encoder.layer.0.attention.output.LayerNorm.bias is trainable\n",
            "bert.encoder.layer.0.intermediate.dense.weight is trainable\n",
            "bert.encoder.layer.0.intermediate.dense.bias is trainable\n",
            "bert.encoder.layer.0.output.dense.weight is trainable\n",
            "bert.encoder.layer.0.output.dense.bias is trainable\n",
            "bert.encoder.layer.0.output.LayerNorm.weight is trainable\n",
            "bert.encoder.layer.0.output.LayerNorm.bias is trainable\n",
            "bert.encoder.layer.1.attention.self.query.weight is trainable\n",
            "bert.encoder.layer.1.attention.self.query.bias is trainable\n",
            "bert.encoder.layer.1.attention.self.key.weight is trainable\n",
            "bert.encoder.layer.1.attention.self.key.bias is trainable\n",
            "bert.encoder.layer.1.attention.self.value.weight is trainable\n",
            "bert.encoder.layer.1.attention.self.value.bias is trainable\n",
            "bert.encoder.layer.1.attention.output.dense.weight is trainable\n",
            "bert.encoder.layer.1.attention.output.dense.bias is trainable\n",
            "bert.encoder.layer.1.attention.output.LayerNorm.weight is trainable\n",
            "bert.encoder.layer.1.attention.output.LayerNorm.bias is trainable\n",
            "bert.encoder.layer.1.intermediate.dense.weight is trainable\n",
            "bert.encoder.layer.1.intermediate.dense.bias is trainable\n",
            "bert.encoder.layer.1.output.dense.weight is trainable\n",
            "bert.encoder.layer.1.output.dense.bias is trainable\n",
            "bert.encoder.layer.1.output.LayerNorm.weight is trainable\n",
            "bert.encoder.layer.1.output.LayerNorm.bias is trainable\n",
            "bert.encoder.layer.2.attention.self.query.weight is trainable\n",
            "bert.encoder.layer.2.attention.self.query.bias is trainable\n",
            "bert.encoder.layer.2.attention.self.key.weight is trainable\n",
            "bert.encoder.layer.2.attention.self.key.bias is trainable\n",
            "bert.encoder.layer.2.attention.self.value.weight is trainable\n",
            "bert.encoder.layer.2.attention.self.value.bias is trainable\n",
            "bert.encoder.layer.2.attention.output.dense.weight is trainable\n",
            "bert.encoder.layer.2.attention.output.dense.bias is trainable\n",
            "bert.encoder.layer.2.attention.output.LayerNorm.weight is trainable\n",
            "bert.encoder.layer.2.attention.output.LayerNorm.bias is trainable\n",
            "bert.encoder.layer.2.intermediate.dense.weight is trainable\n",
            "bert.encoder.layer.2.intermediate.dense.bias is trainable\n",
            "bert.encoder.layer.2.output.dense.weight is trainable\n",
            "bert.encoder.layer.2.output.dense.bias is trainable\n",
            "bert.encoder.layer.2.output.LayerNorm.weight is trainable\n",
            "bert.encoder.layer.2.output.LayerNorm.bias is trainable\n",
            "bert.encoder.layer.3.attention.self.query.weight is trainable\n",
            "bert.encoder.layer.3.attention.self.query.bias is trainable\n",
            "bert.encoder.layer.3.attention.self.key.weight is trainable\n",
            "bert.encoder.layer.3.attention.self.key.bias is trainable\n",
            "bert.encoder.layer.3.attention.self.value.weight is trainable\n",
            "bert.encoder.layer.3.attention.self.value.bias is trainable\n",
            "bert.encoder.layer.3.attention.output.dense.weight is trainable\n",
            "bert.encoder.layer.3.attention.output.dense.bias is trainable\n",
            "bert.encoder.layer.3.attention.output.LayerNorm.weight is trainable\n",
            "bert.encoder.layer.3.attention.output.LayerNorm.bias is trainable\n",
            "bert.encoder.layer.3.intermediate.dense.weight is trainable\n",
            "bert.encoder.layer.3.intermediate.dense.bias is trainable\n",
            "bert.encoder.layer.3.output.dense.weight is trainable\n",
            "bert.encoder.layer.3.output.dense.bias is trainable\n",
            "bert.encoder.layer.3.output.LayerNorm.weight is trainable\n",
            "bert.encoder.layer.3.output.LayerNorm.bias is trainable\n",
            "bert.encoder.layer.4.attention.self.query.weight is trainable\n",
            "bert.encoder.layer.4.attention.self.query.bias is trainable\n",
            "bert.encoder.layer.4.attention.self.key.weight is trainable\n",
            "bert.encoder.layer.4.attention.self.key.bias is trainable\n",
            "bert.encoder.layer.4.attention.self.value.weight is trainable\n",
            "bert.encoder.layer.4.attention.self.value.bias is trainable\n",
            "bert.encoder.layer.4.attention.output.dense.weight is trainable\n",
            "bert.encoder.layer.4.attention.output.dense.bias is trainable\n",
            "bert.encoder.layer.4.attention.output.LayerNorm.weight is trainable\n",
            "bert.encoder.layer.4.attention.output.LayerNorm.bias is trainable\n",
            "bert.encoder.layer.4.intermediate.dense.weight is trainable\n",
            "bert.encoder.layer.4.intermediate.dense.bias is trainable\n",
            "bert.encoder.layer.4.output.dense.weight is trainable\n",
            "bert.encoder.layer.4.output.dense.bias is trainable\n",
            "bert.encoder.layer.4.output.LayerNorm.weight is trainable\n",
            "bert.encoder.layer.4.output.LayerNorm.bias is trainable\n",
            "bert.encoder.layer.5.attention.self.query.weight is trainable\n",
            "bert.encoder.layer.5.attention.self.query.bias is trainable\n",
            "bert.encoder.layer.5.attention.self.key.weight is trainable\n",
            "bert.encoder.layer.5.attention.self.key.bias is trainable\n",
            "bert.encoder.layer.5.attention.self.value.weight is trainable\n",
            "bert.encoder.layer.5.attention.self.value.bias is trainable\n",
            "bert.encoder.layer.5.attention.output.dense.weight is trainable\n",
            "bert.encoder.layer.5.attention.output.dense.bias is trainable\n",
            "bert.encoder.layer.5.attention.output.LayerNorm.weight is trainable\n",
            "bert.encoder.layer.5.attention.output.LayerNorm.bias is trainable\n",
            "bert.encoder.layer.5.intermediate.dense.weight is trainable\n",
            "bert.encoder.layer.5.intermediate.dense.bias is trainable\n",
            "bert.encoder.layer.5.output.dense.weight is trainable\n",
            "bert.encoder.layer.5.output.dense.bias is trainable\n",
            "bert.encoder.layer.5.output.LayerNorm.weight is trainable\n",
            "bert.encoder.layer.5.output.LayerNorm.bias is trainable\n",
            "bert.encoder.layer.6.attention.self.query.weight is trainable\n",
            "bert.encoder.layer.6.attention.self.query.bias is trainable\n",
            "bert.encoder.layer.6.attention.self.key.weight is trainable\n",
            "bert.encoder.layer.6.attention.self.key.bias is trainable\n",
            "bert.encoder.layer.6.attention.self.value.weight is trainable\n",
            "bert.encoder.layer.6.attention.self.value.bias is trainable\n",
            "bert.encoder.layer.6.attention.output.dense.weight is trainable\n",
            "bert.encoder.layer.6.attention.output.dense.bias is trainable\n",
            "bert.encoder.layer.6.attention.output.LayerNorm.weight is trainable\n",
            "bert.encoder.layer.6.attention.output.LayerNorm.bias is trainable\n",
            "bert.encoder.layer.6.intermediate.dense.weight is trainable\n",
            "bert.encoder.layer.6.intermediate.dense.bias is trainable\n",
            "bert.encoder.layer.6.output.dense.weight is trainable\n",
            "bert.encoder.layer.6.output.dense.bias is trainable\n",
            "bert.encoder.layer.6.output.LayerNorm.weight is trainable\n",
            "bert.encoder.layer.6.output.LayerNorm.bias is trainable\n",
            "bert.encoder.layer.7.attention.self.query.weight is trainable\n",
            "bert.encoder.layer.7.attention.self.query.bias is trainable\n",
            "bert.encoder.layer.7.attention.self.key.weight is trainable\n",
            "bert.encoder.layer.7.attention.self.key.bias is trainable\n",
            "bert.encoder.layer.7.attention.self.value.weight is trainable\n",
            "bert.encoder.layer.7.attention.self.value.bias is trainable\n",
            "bert.encoder.layer.7.attention.output.dense.weight is trainable\n",
            "bert.encoder.layer.7.attention.output.dense.bias is trainable\n",
            "bert.encoder.layer.7.attention.output.LayerNorm.weight is trainable\n",
            "bert.encoder.layer.7.attention.output.LayerNorm.bias is trainable\n",
            "bert.encoder.layer.7.intermediate.dense.weight is trainable\n",
            "bert.encoder.layer.7.intermediate.dense.bias is trainable\n",
            "bert.encoder.layer.7.output.dense.weight is trainable\n",
            "bert.encoder.layer.7.output.dense.bias is trainable\n",
            "bert.encoder.layer.7.output.LayerNorm.weight is trainable\n",
            "bert.encoder.layer.7.output.LayerNorm.bias is trainable\n",
            "bert.encoder.layer.8.attention.self.query.weight is trainable\n",
            "bert.encoder.layer.8.attention.self.query.bias is trainable\n",
            "bert.encoder.layer.8.attention.self.key.weight is trainable\n",
            "bert.encoder.layer.8.attention.self.key.bias is trainable\n",
            "bert.encoder.layer.8.attention.self.value.weight is trainable\n",
            "bert.encoder.layer.8.attention.self.value.bias is trainable\n",
            "bert.encoder.layer.8.attention.output.dense.weight is trainable\n",
            "bert.encoder.layer.8.attention.output.dense.bias is trainable\n",
            "bert.encoder.layer.8.attention.output.LayerNorm.weight is trainable\n",
            "bert.encoder.layer.8.attention.output.LayerNorm.bias is trainable\n",
            "bert.encoder.layer.8.intermediate.dense.weight is trainable\n",
            "bert.encoder.layer.8.intermediate.dense.bias is trainable\n",
            "bert.encoder.layer.8.output.dense.weight is trainable\n",
            "bert.encoder.layer.8.output.dense.bias is trainable\n",
            "bert.encoder.layer.8.output.LayerNorm.weight is trainable\n",
            "bert.encoder.layer.8.output.LayerNorm.bias is trainable\n",
            "bert.encoder.layer.9.attention.self.query.weight is trainable\n",
            "bert.encoder.layer.9.attention.self.query.bias is trainable\n",
            "bert.encoder.layer.9.attention.self.key.weight is trainable\n",
            "bert.encoder.layer.9.attention.self.key.bias is trainable\n",
            "bert.encoder.layer.9.attention.self.value.weight is trainable\n",
            "bert.encoder.layer.9.attention.self.value.bias is trainable\n",
            "bert.encoder.layer.9.attention.output.dense.weight is trainable\n",
            "bert.encoder.layer.9.attention.output.dense.bias is trainable\n",
            "bert.encoder.layer.9.attention.output.LayerNorm.weight is trainable\n",
            "bert.encoder.layer.9.attention.output.LayerNorm.bias is trainable\n",
            "bert.encoder.layer.9.intermediate.dense.weight is trainable\n",
            "bert.encoder.layer.9.intermediate.dense.bias is trainable\n",
            "bert.encoder.layer.9.output.dense.weight is trainable\n",
            "bert.encoder.layer.9.output.dense.bias is trainable\n",
            "bert.encoder.layer.9.output.LayerNorm.weight is trainable\n",
            "bert.encoder.layer.9.output.LayerNorm.bias is trainable\n",
            "bert.encoder.layer.10.attention.self.query.weight is trainable\n",
            "bert.encoder.layer.10.attention.self.query.bias is trainable\n",
            "bert.encoder.layer.10.attention.self.key.weight is trainable\n",
            "bert.encoder.layer.10.attention.self.key.bias is trainable\n",
            "bert.encoder.layer.10.attention.self.value.weight is trainable\n",
            "bert.encoder.layer.10.attention.self.value.bias is trainable\n",
            "bert.encoder.layer.10.attention.output.dense.weight is trainable\n",
            "bert.encoder.layer.10.attention.output.dense.bias is trainable\n",
            "bert.encoder.layer.10.attention.output.LayerNorm.weight is trainable\n",
            "bert.encoder.layer.10.attention.output.LayerNorm.bias is trainable\n",
            "bert.encoder.layer.10.intermediate.dense.weight is trainable\n",
            "bert.encoder.layer.10.intermediate.dense.bias is trainable\n",
            "bert.encoder.layer.10.output.dense.weight is trainable\n",
            "bert.encoder.layer.10.output.dense.bias is trainable\n",
            "bert.encoder.layer.10.output.LayerNorm.weight is trainable\n",
            "bert.encoder.layer.10.output.LayerNorm.bias is trainable\n",
            "bert.encoder.layer.11.attention.self.query.weight is trainable\n",
            "bert.encoder.layer.11.attention.self.query.bias is trainable\n",
            "bert.encoder.layer.11.attention.self.key.weight is trainable\n",
            "bert.encoder.layer.11.attention.self.key.bias is trainable\n",
            "bert.encoder.layer.11.attention.self.value.weight is trainable\n",
            "bert.encoder.layer.11.attention.self.value.bias is trainable\n",
            "bert.encoder.layer.11.attention.output.dense.weight is trainable\n",
            "bert.encoder.layer.11.attention.output.dense.bias is trainable\n",
            "bert.encoder.layer.11.attention.output.LayerNorm.weight is trainable\n",
            "bert.encoder.layer.11.attention.output.LayerNorm.bias is trainable\n",
            "bert.encoder.layer.11.intermediate.dense.weight is trainable\n",
            "bert.encoder.layer.11.intermediate.dense.bias is trainable\n",
            "bert.encoder.layer.11.output.dense.weight is trainable\n",
            "bert.encoder.layer.11.output.dense.bias is trainable\n",
            "bert.encoder.layer.11.output.LayerNorm.weight is trainable\n",
            "bert.encoder.layer.11.output.LayerNorm.bias is trainable\n",
            "bert.pooler.dense.weight is trainable\n",
            "bert.pooler.dense.bias is trainable\n",
            "classifier.weight is trainable\n",
            "classifier.bias is trainable\n"
          ]
        }
      ]
    },
    {
      "cell_type": "code",
      "execution_count": null,
      "metadata": {
        "colab": {
          "base_uri": "https://localhost:8080/",
          "height": 180
        },
        "id": "3H-1i_kRy-S7",
        "outputId": "819a3e41-6ee5-464c-c705-6a0056dc7b4c"
      },
      "outputs": [
        {
          "output_type": "stream",
          "name": "stderr",
          "text": [
            "/usr/local/lib/python3.10/dist-packages/transformers/optimization.py:411: FutureWarning: This implementation of AdamW is deprecated and will be removed in a future version. Use the PyTorch implementation torch.optim.AdamW instead, or set `no_deprecation_warning=True` to disable this warning\n",
            "  warnings.warn(\n",
            "You're using a BertTokenizerFast tokenizer. Please note that with a fast tokenizer, using the `__call__` method is faster than using a method to encode the text followed by a call to the `pad` method to get a padded encoding.\n"
          ]
        },
        {
          "output_type": "display_data",
          "data": {
            "text/plain": [
              "<IPython.core.display.HTML object>"
            ],
            "text/html": [
              "\n",
              "    <div>\n",
              "      \n",
              "      <progress value='329' max='16900' style='width:300px; height:20px; vertical-align: middle;'></progress>\n",
              "      [  329/16900 01:53 < 1:35:58, 2.88 it/s, Epoch 0.97/50]\n",
              "    </div>\n",
              "    <table border=\"1\" class=\"dataframe\">\n",
              "  <thead>\n",
              " <tr style=\"text-align: left;\">\n",
              "      <th>Step</th>\n",
              "      <th>Training Loss</th>\n",
              "      <th>Validation Loss</th>\n",
              "      <th>Accuracy</th>\n",
              "      <th>Precision</th>\n",
              "      <th>Recall</th>\n",
              "      <th>F1</th>\n",
              "    </tr>\n",
              "  </thead>\n",
              "  <tbody>\n",
              "    <tr>\n",
              "      <td>250</td>\n",
              "      <td>No log</td>\n",
              "      <td>0.747023</td>\n",
              "      <td>0.666165</td>\n",
              "      <td>0.665769</td>\n",
              "      <td>0.556013</td>\n",
              "      <td>0.566886</td>\n",
              "    </tr>\n",
              "  </tbody>\n",
              "</table><p>"
            ]
          },
          "metadata": {}
        }
      ],
      "source": [
        "trainer.train()"
      ]
    },
    {
      "cell_type": "code",
      "execution_count": null,
      "metadata": {
        "colab": {
          "base_uri": "https://localhost:8080/",
          "height": 156
        },
        "id": "jn0Q5Eij3Egu",
        "outputId": "6842c596-1dc0-419b-c6e9-942715ac26cd"
      },
      "outputs": [
        {
          "output_type": "display_data",
          "data": {
            "text/plain": [
              "<IPython.core.display.HTML object>"
            ],
            "text/html": []
          },
          "metadata": {}
        },
        {
          "output_type": "execute_result",
          "data": {
            "text/plain": [
              "PredictionOutput(predictions=array([[ 5.2332745, -2.758482 , -2.2070894],\n",
              "       [ 5.4174147, -2.8615146, -2.385967 ],\n",
              "       [ 5.3723903, -3.0246358, -2.0558925],\n",
              "       ...,\n",
              "       [ 5.3098364, -2.8952785, -2.1806617],\n",
              "       [-3.1345732,  5.354461 , -2.19704  ],\n",
              "       [ 4.1970615, -1.8207769, -2.1045752]], dtype=float32), label_ids=array([0, 0, 0, ..., 0, 1, 0]), metrics={'test_loss': 1.453665018081665, 'test_accuracy': 0.7654135338345864, 'test_precision': 0.764505498627868, 'test_recall': 0.7039584454031856, 'test_f1': 0.7266556809767039, 'test_runtime': 12.8471, 'test_samples_per_second': 103.525, 'test_steps_per_second': 12.999})"
            ]
          },
          "metadata": {},
          "execution_count": 19
        }
      ],
      "source": [
        "trainer.predict(val_dataset)"
      ]
    },
    {
      "cell_type": "code",
      "execution_count": null,
      "metadata": {
        "id": "eSW49ooro37D"
      },
      "outputs": [],
      "source": [
        "output_dir = \"/content/drive/MyDrive/VITD-Models/xlm-roberta\""
      ]
    },
    {
      "cell_type": "code",
      "execution_count": null,
      "metadata": {
        "id": "6D8pK_Mq8o43"
      },
      "outputs": [],
      "source": [
        "trainer.save_model(f\"{output_dir}\") # saving the model to drive."
      ]
    },
    {
      "cell_type": "code",
      "source": [],
      "metadata": {
        "id": "hsOxcq98mQl9"
      },
      "execution_count": null,
      "outputs": []
    }
  ],
  "metadata": {
    "accelerator": "GPU",
    "colab": {
      "provenance": [],
      "gpuType": "T4",
      "include_colab_link": true
    },
    "kernelspec": {
      "display_name": "Python 3",
      "name": "python3"
    },
    "language_info": {
      "name": "python"
    },
    "widgets": {
      "application/vnd.jupyter.widget-state+json": {
        "37b144df4f16481ca8ad1704e00e2829": {
          "model_module": "@jupyter-widgets/controls",
          "model_name": "HBoxModel",
          "model_module_version": "1.5.0",
          "state": {
            "_dom_classes": [],
            "_model_module": "@jupyter-widgets/controls",
            "_model_module_version": "1.5.0",
            "_model_name": "HBoxModel",
            "_view_count": null,
            "_view_module": "@jupyter-widgets/controls",
            "_view_module_version": "1.5.0",
            "_view_name": "HBoxView",
            "box_style": "",
            "children": [
              "IPY_MODEL_578d8355225c4759aab816ada89272c4",
              "IPY_MODEL_5406406190b04f1c8fc727897013257f",
              "IPY_MODEL_860553b758ef49b1a109640cf25f32c9"
            ],
            "layout": "IPY_MODEL_5214a9c0b1854c4383a42462f096a192"
          }
        },
        "578d8355225c4759aab816ada89272c4": {
          "model_module": "@jupyter-widgets/controls",
          "model_name": "HTMLModel",
          "model_module_version": "1.5.0",
          "state": {
            "_dom_classes": [],
            "_model_module": "@jupyter-widgets/controls",
            "_model_module_version": "1.5.0",
            "_model_name": "HTMLModel",
            "_view_count": null,
            "_view_module": "@jupyter-widgets/controls",
            "_view_module_version": "1.5.0",
            "_view_name": "HTMLView",
            "description": "",
            "description_tooltip": null,
            "layout": "IPY_MODEL_6588cefd065844b68d8debb64e7edd98",
            "placeholder": "​",
            "style": "IPY_MODEL_8f7f42d698274e7988701bc23676d278",
            "value": "Downloading model.safetensors: 100%"
          }
        },
        "5406406190b04f1c8fc727897013257f": {
          "model_module": "@jupyter-widgets/controls",
          "model_name": "FloatProgressModel",
          "model_module_version": "1.5.0",
          "state": {
            "_dom_classes": [],
            "_model_module": "@jupyter-widgets/controls",
            "_model_module_version": "1.5.0",
            "_model_name": "FloatProgressModel",
            "_view_count": null,
            "_view_module": "@jupyter-widgets/controls",
            "_view_module_version": "1.5.0",
            "_view_name": "ProgressView",
            "bar_style": "success",
            "description": "",
            "description_tooltip": null,
            "layout": "IPY_MODEL_3341ea0a856c4b419012f4ff1da3cf52",
            "max": 660393036,
            "min": 0,
            "orientation": "horizontal",
            "style": "IPY_MODEL_028f1dcd6b4848bdbadfa952f3a48ce9",
            "value": 660393036
          }
        },
        "860553b758ef49b1a109640cf25f32c9": {
          "model_module": "@jupyter-widgets/controls",
          "model_name": "HTMLModel",
          "model_module_version": "1.5.0",
          "state": {
            "_dom_classes": [],
            "_model_module": "@jupyter-widgets/controls",
            "_model_module_version": "1.5.0",
            "_model_name": "HTMLModel",
            "_view_count": null,
            "_view_module": "@jupyter-widgets/controls",
            "_view_module_version": "1.5.0",
            "_view_name": "HTMLView",
            "description": "",
            "description_tooltip": null,
            "layout": "IPY_MODEL_d68fa2bd84a14894945d944deb999573",
            "placeholder": "​",
            "style": "IPY_MODEL_742a1adedb0647279c57dba0a489b60a",
            "value": " 660M/660M [00:11&lt;00:00, 72.5MB/s]"
          }
        },
        "5214a9c0b1854c4383a42462f096a192": {
          "model_module": "@jupyter-widgets/base",
          "model_name": "LayoutModel",
          "model_module_version": "1.2.0",
          "state": {
            "_model_module": "@jupyter-widgets/base",
            "_model_module_version": "1.2.0",
            "_model_name": "LayoutModel",
            "_view_count": null,
            "_view_module": "@jupyter-widgets/base",
            "_view_module_version": "1.2.0",
            "_view_name": "LayoutView",
            "align_content": null,
            "align_items": null,
            "align_self": null,
            "border": null,
            "bottom": null,
            "display": null,
            "flex": null,
            "flex_flow": null,
            "grid_area": null,
            "grid_auto_columns": null,
            "grid_auto_flow": null,
            "grid_auto_rows": null,
            "grid_column": null,
            "grid_gap": null,
            "grid_row": null,
            "grid_template_areas": null,
            "grid_template_columns": null,
            "grid_template_rows": null,
            "height": null,
            "justify_content": null,
            "justify_items": null,
            "left": null,
            "margin": null,
            "max_height": null,
            "max_width": null,
            "min_height": null,
            "min_width": null,
            "object_fit": null,
            "object_position": null,
            "order": null,
            "overflow": null,
            "overflow_x": null,
            "overflow_y": null,
            "padding": null,
            "right": null,
            "top": null,
            "visibility": null,
            "width": null
          }
        },
        "6588cefd065844b68d8debb64e7edd98": {
          "model_module": "@jupyter-widgets/base",
          "model_name": "LayoutModel",
          "model_module_version": "1.2.0",
          "state": {
            "_model_module": "@jupyter-widgets/base",
            "_model_module_version": "1.2.0",
            "_model_name": "LayoutModel",
            "_view_count": null,
            "_view_module": "@jupyter-widgets/base",
            "_view_module_version": "1.2.0",
            "_view_name": "LayoutView",
            "align_content": null,
            "align_items": null,
            "align_self": null,
            "border": null,
            "bottom": null,
            "display": null,
            "flex": null,
            "flex_flow": null,
            "grid_area": null,
            "grid_auto_columns": null,
            "grid_auto_flow": null,
            "grid_auto_rows": null,
            "grid_column": null,
            "grid_gap": null,
            "grid_row": null,
            "grid_template_areas": null,
            "grid_template_columns": null,
            "grid_template_rows": null,
            "height": null,
            "justify_content": null,
            "justify_items": null,
            "left": null,
            "margin": null,
            "max_height": null,
            "max_width": null,
            "min_height": null,
            "min_width": null,
            "object_fit": null,
            "object_position": null,
            "order": null,
            "overflow": null,
            "overflow_x": null,
            "overflow_y": null,
            "padding": null,
            "right": null,
            "top": null,
            "visibility": null,
            "width": null
          }
        },
        "8f7f42d698274e7988701bc23676d278": {
          "model_module": "@jupyter-widgets/controls",
          "model_name": "DescriptionStyleModel",
          "model_module_version": "1.5.0",
          "state": {
            "_model_module": "@jupyter-widgets/controls",
            "_model_module_version": "1.5.0",
            "_model_name": "DescriptionStyleModel",
            "_view_count": null,
            "_view_module": "@jupyter-widgets/base",
            "_view_module_version": "1.2.0",
            "_view_name": "StyleView",
            "description_width": ""
          }
        },
        "3341ea0a856c4b419012f4ff1da3cf52": {
          "model_module": "@jupyter-widgets/base",
          "model_name": "LayoutModel",
          "model_module_version": "1.2.0",
          "state": {
            "_model_module": "@jupyter-widgets/base",
            "_model_module_version": "1.2.0",
            "_model_name": "LayoutModel",
            "_view_count": null,
            "_view_module": "@jupyter-widgets/base",
            "_view_module_version": "1.2.0",
            "_view_name": "LayoutView",
            "align_content": null,
            "align_items": null,
            "align_self": null,
            "border": null,
            "bottom": null,
            "display": null,
            "flex": null,
            "flex_flow": null,
            "grid_area": null,
            "grid_auto_columns": null,
            "grid_auto_flow": null,
            "grid_auto_rows": null,
            "grid_column": null,
            "grid_gap": null,
            "grid_row": null,
            "grid_template_areas": null,
            "grid_template_columns": null,
            "grid_template_rows": null,
            "height": null,
            "justify_content": null,
            "justify_items": null,
            "left": null,
            "margin": null,
            "max_height": null,
            "max_width": null,
            "min_height": null,
            "min_width": null,
            "object_fit": null,
            "object_position": null,
            "order": null,
            "overflow": null,
            "overflow_x": null,
            "overflow_y": null,
            "padding": null,
            "right": null,
            "top": null,
            "visibility": null,
            "width": null
          }
        },
        "028f1dcd6b4848bdbadfa952f3a48ce9": {
          "model_module": "@jupyter-widgets/controls",
          "model_name": "ProgressStyleModel",
          "model_module_version": "1.5.0",
          "state": {
            "_model_module": "@jupyter-widgets/controls",
            "_model_module_version": "1.5.0",
            "_model_name": "ProgressStyleModel",
            "_view_count": null,
            "_view_module": "@jupyter-widgets/base",
            "_view_module_version": "1.2.0",
            "_view_name": "StyleView",
            "bar_color": null,
            "description_width": ""
          }
        },
        "d68fa2bd84a14894945d944deb999573": {
          "model_module": "@jupyter-widgets/base",
          "model_name": "LayoutModel",
          "model_module_version": "1.2.0",
          "state": {
            "_model_module": "@jupyter-widgets/base",
            "_model_module_version": "1.2.0",
            "_model_name": "LayoutModel",
            "_view_count": null,
            "_view_module": "@jupyter-widgets/base",
            "_view_module_version": "1.2.0",
            "_view_name": "LayoutView",
            "align_content": null,
            "align_items": null,
            "align_self": null,
            "border": null,
            "bottom": null,
            "display": null,
            "flex": null,
            "flex_flow": null,
            "grid_area": null,
            "grid_auto_columns": null,
            "grid_auto_flow": null,
            "grid_auto_rows": null,
            "grid_column": null,
            "grid_gap": null,
            "grid_row": null,
            "grid_template_areas": null,
            "grid_template_columns": null,
            "grid_template_rows": null,
            "height": null,
            "justify_content": null,
            "justify_items": null,
            "left": null,
            "margin": null,
            "max_height": null,
            "max_width": null,
            "min_height": null,
            "min_width": null,
            "object_fit": null,
            "object_position": null,
            "order": null,
            "overflow": null,
            "overflow_x": null,
            "overflow_y": null,
            "padding": null,
            "right": null,
            "top": null,
            "visibility": null,
            "width": null
          }
        },
        "742a1adedb0647279c57dba0a489b60a": {
          "model_module": "@jupyter-widgets/controls",
          "model_name": "DescriptionStyleModel",
          "model_module_version": "1.5.0",
          "state": {
            "_model_module": "@jupyter-widgets/controls",
            "_model_module_version": "1.5.0",
            "_model_name": "DescriptionStyleModel",
            "_view_count": null,
            "_view_module": "@jupyter-widgets/base",
            "_view_module_version": "1.2.0",
            "_view_name": "StyleView",
            "description_width": ""
          }
        }
      }
    }
  },
  "nbformat": 4,
  "nbformat_minor": 0
}