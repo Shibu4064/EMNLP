{
  "nbformat": 4,
  "nbformat_minor": 0,
  "metadata": {
    "colab": {
      "provenance": []
    },
    "kernelspec": {
      "name": "python3",
      "display_name": "Python 3"
    },
    "language_info": {
      "name": "python"
    }
  },
  "cells": [
    {
      "cell_type": "code",
      "source": [
        "import pandas as pd"
      ],
      "metadata": {
        "id": "TpV2Y1nvmBeL"
      },
      "execution_count": 58,
      "outputs": []
    },
    {
      "cell_type": "code",
      "execution_count": 59,
      "metadata": {
        "id": "yrvzK_6Olquq"
      },
      "outputs": [],
      "source": [
        "df_val = pd.read_csv(\"dev (1).csv\")\n",
        "\n",
        "df_sagor = pd.read_csv(\"/content/sagor_dev.csv\")\n",
        "df_sagor_sub = pd.read_csv(\"/content/sagor_dev_sub.csv\")\n",
        "\n",
        "df_mbert = pd.read_csv(\"/content/mbert_dev.csv\")\n",
        "df_mbert_sub = pd.read_csv(\"/content/mbert_dev_sub.csv\")\n",
        "\n",
        "df_roberta = pd.read_csv(\"/content/roberta_dev.csv\")\n",
        "df_roberta_sub = pd.read_csv(\"/content/roberta_dev_sub.csv\")\n",
        "\n",
        "df_mlm = pd.read_csv(\"/content/mlm_dev.csv\")"
      ]
    },
    {
      "cell_type": "code",
      "source": [
        "df_val['sagor'] = df_sagor['label']\n",
        "df_val['sagor_sub'] = df_sagor_sub['label']\n",
        "\n",
        "df_val['mbert'] = df_mbert['label']\n",
        "df_val['mbert_sub'] = df_mbert_sub['label']\n",
        "\n",
        "df_val['roberta'] = df_roberta['label']\n",
        "df_val['roberta_sub'] = df_roberta_sub['label']\n",
        "\n",
        "df_val['mlm'] = df_mlm['label']\n",
        "\n",
        "print(df_val.head())"
      ],
      "metadata": {
        "colab": {
          "base_uri": "https://localhost:8080/"
        },
        "id": "mNdAFD7ymU--",
        "outputId": "53d0470a-f86b-4853-dafd-c004bf4061e5"
      },
      "execution_count": 60,
      "outputs": [
        {
          "output_type": "stream",
          "name": "stdout",
          "text": [
            "                                                text  label  sagor  sagor_sub  \\\n",
            "0  পাডা পুতার মাঝখানে পরে সাধারণ ২ মানুষের জিবন শ...      0      0          0   \n",
            "1  করোনার চাপে অনেক কিছু বন্ধ ও অনেক বিধি নিষেধ ক...      0      0          0   \n",
            "2  সঠিক তদন্ত করতে হবে। বিচারের আওতায় আনতে হবে য...      0      0          0   \n",
            "3  যে লোকটা মারা গেছে তার কি হবে তার দায়ভার কে ন...      0      0          0   \n",
            "4  নিউ মার্কেট এবং গুলিস্থান মার্কেটের ব্যবসায়ীর...      1      0          1   \n",
            "\n",
            "   mbert  mbert_sub  roberta  roberta_sub  mlm  \n",
            "0      1          0        1            0    1  \n",
            "1      0          0        0            0    0  \n",
            "2      0          0        0            0    0  \n",
            "3      0          0        0            0    0  \n",
            "4      2          1        2            2    2  \n"
          ]
        }
      ]
    },
    {
      "cell_type": "code",
      "source": [
        "import pandas as pd\n",
        "\n",
        "# Load each csv file into a separate dataframe\n",
        "df1 = df_mlm\n",
        "df2 = df_sagor\n",
        "df3 = df_sagor_sub\n",
        "df4 = df_mbert\n",
        "df5 = df_mbert_sub\n",
        "df6 = df_roberta\n",
        "df7 = df_roberta_sub\n",
        "\n",
        "# Extract the label columns from each dataframe\n",
        "label1 = df1.loc[1, 'label']\n",
        "label2 = df2.iloc[:, 0]\n",
        "label3 = df3.iloc[:, 0]\n",
        "label4 = df4.iloc[:, 0]\n",
        "label5 = df5.iloc[:, 0]\n",
        "label6 = df6.iloc[:, 0]\n",
        "label7 = df7.iloc[:, 0]\n",
        "\n",
        "preds=[]\n",
        "print(len(df1))\n",
        "for i in range(len(df1)):\n",
        "  l=[0,0,0]\n",
        "  label1 = df1.loc[i, 'label']\n",
        "  label2 = df2.loc[i, 'label']\n",
        "  label3 = df3.loc[i, 'label']\n",
        "  label4 = df4.loc[i, 'label']\n",
        "  label5 = df5.loc[i, 'label']\n",
        "  label6 = df6.loc[i, 'label']\n",
        "  label7 = df7.loc[i, 'label']\n",
        "  l[label1]+=3\n",
        "  l[label2]+=1\n",
        "  l[label3]+=1\n",
        "  l[label4]+=1\n",
        "  l[label5]+=1\n",
        "  l[label6]+=1\n",
        "  l[label7]+=1\n",
        "  preds.append(l.index(max(l)))\n",
        "print(preds)\n",
        "print(len(preds))"
      ],
      "metadata": {
        "colab": {
          "base_uri": "https://localhost:8080/"
        },
        "id": "yYfyWjwKNcJN",
        "outputId": "9ddee49f-9d5f-4ff6-8efc-92cfa819779e"
      },
      "execution_count": 61,
      "outputs": [
        {
          "output_type": "stream",
          "name": "stdout",
          "text": [
            "1330\n",
            "[1, 0, 0, 0, 2, 2, 0, 1, 2, 0, 0, 1, 1, 0, 0, 0, 0, 0, 0, 0, 0, 0, 0, 0, 0, 1, 0, 0, 0, 1, 1, 1, 0, 0, 0, 0, 2, 0, 2, 0, 2, 0, 2, 1, 0, 0, 1, 1, 1, 0, 1, 0, 0, 0, 1, 0, 1, 2, 0, 1, 2, 0, 1, 0, 1, 2, 1, 0, 0, 0, 1, 1, 0, 0, 0, 1, 2, 0, 0, 1, 0, 0, 0, 1, 0, 0, 1, 0, 1, 0, 0, 0, 0, 0, 0, 2, 1, 2, 2, 0, 1, 0, 0, 1, 0, 0, 1, 1, 1, 0, 0, 1, 0, 1, 2, 0, 1, 0, 1, 2, 1, 0, 0, 0, 2, 1, 2, 1, 2, 0, 1, 2, 0, 1, 0, 1, 0, 0, 2, 0, 0, 0, 1, 0, 0, 0, 0, 2, 1, 0, 0, 1, 0, 1, 0, 0, 0, 0, 2, 1, 0, 0, 0, 0, 0, 0, 1, 1, 0, 0, 2, 0, 1, 2, 0, 0, 0, 1, 0, 1, 0, 1, 1, 1, 2, 1, 0, 0, 1, 1, 1, 0, 0, 0, 1, 1, 0, 0, 1, 1, 0, 0, 0, 0, 0, 0, 1, 1, 0, 0, 0, 1, 1, 0, 0, 0, 2, 0, 0, 0, 0, 0, 0, 0, 1, 1, 0, 0, 0, 1, 0, 0, 0, 0, 0, 0, 0, 1, 0, 0, 1, 0, 1, 1, 0, 2, 0, 1, 1, 0, 0, 1, 0, 0, 1, 0, 0, 1, 2, 0, 0, 2, 1, 0, 2, 0, 0, 1, 0, 0, 0, 0, 0, 0, 2, 0, 0, 1, 0, 0, 1, 0, 0, 0, 2, 1, 1, 0, 0, 0, 0, 1, 0, 0, 1, 0, 0, 0, 1, 0, 1, 2, 0, 1, 0, 0, 1, 1, 1, 1, 0, 0, 1, 0, 0, 1, 0, 1, 0, 0, 1, 0, 1, 0, 0, 0, 2, 0, 2, 0, 0, 1, 1, 1, 0, 1, 1, 1, 0, 0, 1, 0, 1, 0, 0, 0, 0, 2, 0, 0, 2, 1, 0, 0, 1, 0, 0, 1, 0, 0, 0, 0, 0, 2, 0, 0, 1, 0, 0, 0, 1, 1, 0, 1, 2, 0, 0, 0, 1, 0, 2, 0, 1, 1, 0, 0, 1, 0, 1, 0, 0, 0, 0, 0, 0, 1, 1, 1, 1, 1, 0, 0, 1, 1, 0, 0, 0, 0, 1, 1, 2, 0, 0, 0, 1, 0, 0, 2, 0, 0, 2, 0, 2, 0, 0, 1, 0, 1, 0, 0, 1, 0, 0, 1, 0, 2, 1, 1, 0, 0, 0, 1, 0, 1, 0, 0, 1, 0, 2, 1, 0, 0, 0, 2, 0, 0, 0, 0, 1, 0, 1, 1, 2, 0, 0, 1, 0, 0, 1, 0, 0, 0, 0, 0, 2, 0, 0, 0, 1, 1, 0, 1, 0, 0, 0, 2, 0, 1, 1, 1, 0, 0, 0, 1, 0, 1, 1, 0, 0, 0, 1, 0, 1, 1, 1, 0, 2, 1, 1, 0, 1, 0, 1, 0, 2, 1, 2, 1, 0, 0, 0, 0, 1, 0, 1, 0, 2, 1, 2, 0, 1, 1, 1, 0, 0, 0, 0, 0, 1, 0, 2, 0, 0, 0, 0, 0, 1, 0, 0, 0, 0, 0, 1, 0, 1, 0, 0, 0, 2, 1, 1, 0, 0, 0, 1, 0, 0, 0, 0, 1, 1, 0, 0, 0, 2, 0, 1, 0, 0, 0, 1, 2, 0, 0, 1, 0, 1, 2, 0, 0, 0, 0, 0, 0, 0, 1, 2, 1, 2, 0, 0, 0, 0, 2, 2, 0, 0, 0, 0, 1, 0, 0, 0, 0, 2, 0, 0, 0, 1, 0, 0, 0, 0, 0, 0, 2, 0, 0, 0, 2, 1, 2, 1, 1, 0, 0, 0, 0, 0, 0, 0, 0, 0, 1, 0, 0, 1, 0, 0, 1, 0, 0, 0, 0, 2, 0, 0, 1, 0, 0, 0, 0, 2, 1, 0, 0, 1, 2, 0, 1, 0, 0, 1, 0, 2, 0, 2, 0, 0, 0, 0, 0, 0, 1, 0, 0, 0, 1, 1, 1, 0, 1, 0, 1, 0, 0, 1, 1, 1, 1, 0, 1, 0, 1, 0, 1, 1, 1, 1, 2, 1, 0, 0, 0, 1, 0, 2, 0, 0, 0, 0, 0, 1, 0, 0, 0, 1, 0, 0, 0, 2, 0, 2, 1, 0, 0, 1, 0, 1, 0, 1, 0, 0, 1, 0, 0, 0, 1, 1, 2, 1, 0, 1, 1, 1, 1, 2, 0, 1, 0, 2, 0, 0, 0, 2, 0, 1, 0, 0, 0, 1, 0, 0, 2, 1, 2, 0, 1, 1, 1, 1, 2, 0, 2, 1, 1, 2, 0, 0, 0, 1, 2, 0, 0, 2, 1, 1, 1, 0, 2, 0, 0, 0, 0, 1, 0, 2, 2, 2, 0, 0, 2, 2, 0, 1, 0, 0, 1, 1, 0, 1, 1, 0, 0, 0, 0, 1, 0, 2, 1, 2, 1, 0, 0, 2, 1, 2, 2, 0, 1, 0, 1, 1, 0, 2, 1, 0, 0, 0, 0, 0, 0, 0, 0, 0, 0, 0, 0, 2, 0, 1, 0, 1, 0, 0, 0, 0, 1, 0, 2, 1, 0, 1, 2, 2, 2, 0, 0, 1, 0, 0, 0, 0, 0, 0, 0, 0, 2, 1, 0, 0, 1, 0, 0, 0, 0, 1, 1, 0, 2, 2, 1, 0, 0, 1, 2, 0, 0, 2, 0, 1, 0, 0, 0, 1, 1, 2, 0, 0, 0, 1, 1, 1, 0, 0, 2, 1, 1, 2, 2, 0, 1, 1, 0, 0, 0, 0, 0, 1, 0, 0, 0, 0, 1, 2, 0, 0, 0, 1, 1, 0, 1, 1, 0, 2, 0, 0, 0, 1, 0, 0, 1, 0, 2, 0, 0, 0, 2, 0, 0, 0, 0, 1, 0, 0, 2, 1, 1, 0, 0, 0, 0, 2, 2, 1, 1, 1, 2, 1, 1, 0, 0, 1, 0, 0, 0, 2, 1, 1, 2, 1, 1, 2, 0, 1, 0, 1, 0, 0, 0, 0, 0, 0, 2, 0, 0, 0, 1, 0, 0, 0, 0, 0, 2, 0, 2, 0, 1, 1, 1, 0, 0, 1, 1, 0, 0, 1, 1, 0, 2, 2, 0, 2, 1, 0, 1, 1, 0, 1, 0, 2, 0, 0, 0, 1, 0, 0, 1, 0, 0, 0, 1, 0, 2, 1, 1, 0, 0, 1, 0, 0, 1, 1, 0, 0, 0, 1, 0, 1, 1, 2, 1, 1, 0, 2, 0, 0, 0, 1, 0, 1, 1, 0, 0, 1, 0, 0, 0, 0, 1, 1, 0, 2, 0, 0, 0, 1, 1, 1, 1, 0, 0, 0, 1, 2, 0, 2, 0, 2, 0, 0, 1, 2, 1, 0, 1, 2, 0, 0, 0, 0, 0, 0, 0, 1, 1, 0, 0, 1, 2, 1, 0, 0, 0, 2, 2, 1, 1, 0, 0, 0, 0, 1, 1, 0, 0, 0, 0, 0, 1, 2, 0, 2, 0, 1, 1, 2, 1, 0, 0, 0, 1, 0, 2, 0, 0, 0, 0, 1, 2, 1, 1, 1, 1, 0, 0, 0, 0, 0, 0, 2, 0, 0, 0, 1, 0, 0, 2, 2, 0, 1, 0, 1, 0, 1, 0, 1, 0, 0, 0, 1, 0, 2, 0, 0, 0, 2, 2, 0, 1, 0, 0, 0, 0, 0, 2, 0, 0, 2, 0, 0, 1, 1, 1, 0, 1, 0, 0, 0, 1, 2, 1, 2, 0, 0, 0, 1, 0, 0, 0, 0, 1, 0, 0, 0, 1, 1, 0, 0, 0, 0, 2, 0, 2, 0, 1, 0, 2, 0, 0, 2, 0, 0, 1, 1, 0, 1, 0, 1, 0, 0, 0, 1, 0, 0, 0, 0, 1, 0, 1, 1, 0, 0, 2, 0, 0, 1, 2, 0, 0, 0, 1, 1, 1, 1, 0, 1, 0, 0, 0, 0, 1, 0, 2, 0, 0, 1, 1, 1, 0, 0, 1, 0, 1, 0, 1, 1, 0, 1, 0]\n",
            "1330\n"
          ]
        }
      ]
    },
    {
      "cell_type": "code",
      "source": [
        "stacked_pred = preds\n",
        "\n",
        "tp = [0, 0, 0]\n",
        "tn = [0, 0, 0]\n",
        "fp = [0, 0, 0]\n",
        "fn = [0, 0, 0]\n",
        "\n",
        "for i in range(len(df_val['label'])):\n",
        "  for label in [0, 1, 2]:\n",
        "      if df_val['label'][i] == label and stacked_pred[i] == label:\n",
        "          tp[label] += 1\n",
        "      elif df_val['label'][i] != label and stacked_pred[i] != label:\n",
        "          tn[label] += 1\n",
        "      elif df_val['label'][i] != label and stacked_pred[i] == label:\n",
        "          fp[label] += 1\n",
        "      elif df_val['label'][i] == label and stacked_pred[i] != label:\n",
        "          fn[label] += 1\n",
        "\n",
        "for label in [0, 1, 2]:\n",
        "    print(f\"Label {label}:\")\n",
        "    print(f\"True Positives (TP): {tp[label]}\")\n",
        "    print(f\"True Negatives (TN): {tn[label]}\")\n",
        "    print(f\"False Positives (FP): {fp[label]}\")\n",
        "    print(f\"False Negatives (FN): {fn[label]}\")\n",
        "    print()"
      ],
      "metadata": {
        "colab": {
          "base_uri": "https://localhost:8080/"
        },
        "id": "PxsQdaK9Nly3",
        "outputId": "c4a3f221-d418-4c67-a4aa-1fa5cc38a06c"
      },
      "execution_count": 62,
      "outputs": [
        {
          "output_type": "stream",
          "name": "stdout",
          "text": [
            "Label 0:\n",
            "True Positives (TP): 669\n",
            "True Negatives (TN): 519\n",
            "False Positives (FP): 94\n",
            "False Negatives (FN): 48\n",
            "\n",
            "Label 1:\n",
            "True Positives (TP): 339\n",
            "True Negatives (TN): 852\n",
            "False Positives (FP): 61\n",
            "False Negatives (FN): 78\n",
            "\n",
            "Label 2:\n",
            "True Positives (TP): 150\n",
            "True Negatives (TN): 1117\n",
            "False Positives (FP): 17\n",
            "False Negatives (FN): 46\n",
            "\n"
          ]
        }
      ]
    },
    {
      "cell_type": "code",
      "source": [
        "f1 = []\n",
        "for label in [0, 1, 2]:\n",
        "    precision = tp[label] / (tp[label] + fp[label])\n",
        "    recall = tp[label] / (tp[label] + fn[label])\n",
        "    f1.append(2 * (precision * recall) / (precision + recall))\n",
        "\n",
        "# Calculate macro F1\n",
        "macro_f1 = sum(f1) / len(f1)\n",
        "\n",
        "print(f\" Validation Macro F1: {macro_f1}\")"
      ],
      "metadata": {
        "colab": {
          "base_uri": "https://localhost:8080/"
        },
        "id": "lAUSYliuN1mV",
        "outputId": "a65750f3-3d30-495d-cc60-dec5285966c6"
      },
      "execution_count": 63,
      "outputs": [
        {
          "output_type": "stream",
          "name": "stdout",
          "text": [
            " Validation Macro F1: 0.8534552320409671\n"
          ]
        }
      ]
    },
    {
      "cell_type": "code",
      "source": [
        "# !pip install -q tensorflow"
      ],
      "metadata": {
        "id": "yqQihiKYtlnq"
      },
      "execution_count": 64,
      "outputs": []
    },
    {
      "cell_type": "code",
      "source": [
        "# import tensorflow as tf"
      ],
      "metadata": {
        "id": "3R9Lp6vUto8a"
      },
      "execution_count": 65,
      "outputs": []
    },
    {
      "cell_type": "code",
      "source": [
        "# from sklearn.model_selection import train_test_split\n",
        "# X = df_val.drop(['text','label'], axis=1)\n",
        "# y = df_val['label']\n",
        "# X_train, X_test, y_train, y_test = train_test_split(\n",
        "#     X, y,\n",
        "#     test_size=0.5, stratify=y, random_state=42\n",
        "# )\n",
        "# X_train,y_train, X_test, y_test"
      ],
      "metadata": {
        "id": "Ic6TIUbknqO9"
      },
      "execution_count": 66,
      "outputs": []
    },
    {
      "cell_type": "code",
      "source": [
        "#  y_test.value_counts()"
      ],
      "metadata": {
        "id": "DKUhSMnTrorD"
      },
      "execution_count": 67,
      "outputs": []
    },
    {
      "cell_type": "code",
      "source": [
        "# tf.random.set_seed(42)\n",
        "# model = tf.keras.Sequential([\n",
        "#     tf.keras.layers.Dense(128, activation='relu'),\n",
        "#     tf.keras.layers.Dense(256, activation='relu'),\n",
        "#     tf.keras.layers.Dense(256, activation='relu'),\n",
        "#     tf.keras.layers.Dense(3, activation='sigmoid')\n",
        "# ])\n",
        "# model.compile(\n",
        "#     loss=tf.keras.losses.sparse_categorical_crossentropy,\n",
        "#     optimizer=tf.keras.optimizers.Adam(lr=0.03),\n",
        "#     metrics=[\n",
        "#         tf.keras.metrics.BinaryAccuracy(name='accuracy'),\n",
        "#         tf.keras.metrics.Precision(name='precision'),\n",
        "#         tf.keras.metrics.Recall(name='recall')\n",
        "#     ]\n",
        "# )\n",
        "# history = model.fit(X_train, y_train, epochs=100, validation_data=(X_test, y_test))"
      ],
      "metadata": {
        "id": "ci97y13Orpkw"
      },
      "execution_count": 68,
      "outputs": []
    },
    {
      "cell_type": "code",
      "source": [
        "# import tensorflow as tf\n",
        "# from sklearn.metrics import f1_score\n",
        "# import numpy as np\n",
        "\n",
        "# # Define a custom macro F1 metric function\n",
        "# def macro_f1_metric(y_true, y_pred):\n",
        "#     y_pred_labels = tf.argmax(y_pred, axis=1)\n",
        "#     return tf.py_function(lambda y_true, y_pred_labels: f1_score(y_true, y_pred_labels, average='macro'),\n",
        "#                           (y_true, y_pred_labels), tf.float32)\n",
        "\n",
        "# tf.random.set_seed(42)\n",
        "# model = tf.keras.Sequential([\n",
        "#     tf.keras.layers.Dense(128, activation='relu'),\n",
        "#     tf.keras.layers.Dense(256, activation='relu'),\n",
        "#     tf.keras.layers.Dense(256, activation='relu'),\n",
        "#     tf.keras.layers.Dense(3, activation='softmax')\n",
        "# ])\n",
        "# model.compile(\n",
        "#     loss=tf.keras.losses.sparse_categorical_crossentropy,\n",
        "#     optimizer=tf.keras.optimizers.Adam(lr=0.03),\n",
        "#     metrics=[\n",
        "#         macro_f1_metric,  # Use the custom macro F1 metric\n",
        "#     ]\n",
        "# )\n",
        "\n",
        "# # # Split your data into training and validation sets\n",
        "# # from sklearn.model_selection import train_test_split\n",
        "# # X_train, X_val, y_train, y_val = train_test_split(X_train, y_train, test_size=0.2, random_state=42)\n",
        "\n",
        "# # Define a custom callback to save the best model based on macro F1 score\n",
        "# class MacroF1Callback(tf.keras.callbacks.Callback):\n",
        "#     def __init__(self, validation_data):\n",
        "#         super().__init__()\n",
        "#         self.validation_data = validation_data\n",
        "#         self.best_macro_f1 = 0.0\n",
        "\n",
        "#     def on_epoch_end(self, epoch, logs=None):\n",
        "#         # print(self.validation_data[0])\n",
        "#         val_predictions = self.model.predict(self.validation_data[0])\n",
        "#         val_true = self.validation_data[1]\n",
        "#         val_macro_f1 = f1_score(val_true, np.argmax(val_predictions, axis=1), average='macro')\n",
        "\n",
        "#         if val_macro_f1 > self.best_macro_f1:\n",
        "#             self.best_macro_f1 = val_macro_f1\n",
        "#             self.model.save('best_model_macro_f1.h5')\n",
        "#             print('saved best model')\n",
        "\n",
        "# # Create the Macro F1 callback\n",
        "# macro_f1_callback = MacroF1Callback(validation_data=(X_test, y_test))\n",
        "\n",
        "# history = model.fit(\n",
        "#     X_train, y_train,\n",
        "#     epochs=30,\n",
        "#     validation_data=(X_test, y_test),\n",
        "#     callbacks=[macro_f1_callback]  # Use the custom Macro F1 callback\n",
        "# )\n"
      ],
      "metadata": {
        "id": "C1GbXk0_uxWB"
      },
      "execution_count": 69,
      "outputs": []
    },
    {
      "cell_type": "code",
      "source": [
        "# # Load the best model based on macro F1 score at the end of training\n",
        "# best_model_macro_f1 = tf.keras.models.load_model('best_model_macro_f1.h5',\n",
        "#                                                  custom_objects={'macro_f1_metric': macro_f1_metric})"
      ],
      "metadata": {
        "id": "rWvPGUCusJB-"
      },
      "execution_count": 70,
      "outputs": []
    },
    {
      "cell_type": "code",
      "source": [
        "# sample_input = np.array([1, 1, 0, 1])  # Example input with 3 features\n",
        "\n",
        "# # 1. Preprocess the input data (apply the same preprocessing used during training)\n",
        "# # ... (apply your preprocessing steps here if needed)\n",
        "\n",
        "# # 2. Reshape the input data to create a batch of size 1\n",
        "# sample_input = np.expand_dims(sample_input, axis=0)\n",
        "\n",
        "# # 3. Use the model to make predictions\n",
        "# predictions = best_model_macro_f1.predict(sample_input)\n",
        "# print(np.argmax(predictions))"
      ],
      "metadata": {
        "id": "Wcqg1xXRxKP9"
      },
      "execution_count": 71,
      "outputs": []
    },
    {
      "cell_type": "code",
      "source": [
        "df_test = pd.read_csv(\"test (3).csv\")\n",
        "\n",
        "df_sagor_test = pd.read_csv(\"/content/sagor_test.csv\")\n",
        "df_sagor_sub_test = pd.read_csv(\"/content/sagor_test_sub.csv\")\n",
        "\n",
        "df_mbert_test = pd.read_csv(\"/content/mbert_test.csv\")\n",
        "df_mbert_sub_test = pd.read_csv(\"/content/mbert_test_sub.csv\")\n",
        "\n",
        "df_roberta_test = pd.read_csv(\"/content/roberta_test.csv\")\n",
        "df_roberta_sub_test = pd.read_csv(\"/content/roberta_test_sub.csv\")\n",
        "\n",
        "df_mlm_test = pd.read_csv(\"/content/mlm_test.csv\")\n",
        "\n",
        "print(df_mbert_sub_test)"
      ],
      "metadata": {
        "colab": {
          "base_uri": "https://localhost:8080/"
        },
        "id": "oV-nj57HzFMW",
        "outputId": "da2a94a0-6f12-4304-a5b8-13a9ade050c6"
      },
      "execution_count": 72,
      "outputs": [
        {
          "output_type": "stream",
          "name": "stdout",
          "text": [
            "                                                   text  label\n",
            "0     বাংলাদেশের হিন্দুরা নিজেদের জন্য আলাদা হিন্দু ...      0\n",
            "1     মাইজদী - চৌমুহুনী - ফেনী মন্দিরে হামলা নিয়ে রি...      2\n",
            "2     দয়া করে পবিত্র কুরআনুল কারিম বলেন,,,,পবিত্র কথ...      0\n",
            "3     বিবিসি হলো সত্য কে বিনষ্টকারী আর মিথ্যা কে গ্র...      0\n",
            "4               বুধবার কি তোরা মারা গেছিলি বিবিসি বাংলা      0\n",
            "...                                                 ...    ...\n",
            "2011  নিজের ধর্মের পরিধানটি কোনো ধর্ম স্থানেই ভালো ম...      0\n",
            "2012  হিন্দু মহিলাদের ওপরও বেদের মতে পর্দা করা আবশ্য...      1\n",
            "2013                           ভারত ধ্বংস হবে অতি দ্রুত      2\n",
            "2014  ভারতীয় উপমহাদেশে উপর আল্লাহর গজব নাজিল হোক আমি...      2\n",
            "2015  মুসলিম আল্লাহ চাড়া কাউকে ভয় করে না।। আল্লাহুআক...      0\n",
            "\n",
            "[2016 rows x 2 columns]\n"
          ]
        }
      ]
    },
    {
      "cell_type": "code",
      "source": [
        "# Add columns to the test dataframe\n",
        "df_test['sagor'] = df_sagor_test['label']\n",
        "df_test['sagor_sub'] = df_sagor_sub_test['label']\n",
        "\n",
        "df_test['mbert'] = df_mbert_test['label']\n",
        "df_test['mbert_sub'] = df_mbert_sub_test['label']\n",
        "\n",
        "df_test['roberta'] = df_roberta_test['label']\n",
        "df_test['roberta_sub'] = df_roberta_sub_test['label']\n",
        "\n",
        "df_test['mlm'] = df_mlm_test['label']\n",
        "\n",
        "# Print the first few rows of the test dataframe\n",
        "print(df_test.head())"
      ],
      "metadata": {
        "colab": {
          "base_uri": "https://localhost:8080/"
        },
        "id": "XXkxJ1sZ0Iao",
        "outputId": "02036409-53a6-414d-d603-1e9bbb52d0de"
      },
      "execution_count": 73,
      "outputs": [
        {
          "output_type": "stream",
          "name": "stdout",
          "text": [
            "                                                text  label  sagor  sagor_sub  \\\n",
            "0  বাংলাদেশের হিন্দুরা নিজেদের জন্য আলাদা হিন্দু ...      0      1          1   \n",
            "1  মাইজদী - চৌমুহুনী - ফেনী মন্দিরে হামলা নিয়ে রি...      0      1          0   \n",
            "2  দয়া করে পবিত্র কুরআনুল কারিম বলেন,,,,পবিত্র কথ...      0      0          0   \n",
            "3  বিবিসি হলো সত্য কে বিনষ্টকারী আর মিথ্যা কে গ্র...      1      1          0   \n",
            "4            বুধবার কি তোরা মারা গেছিলি বিবিসি বাংলা      1      1          1   \n",
            "\n",
            "   mbert  mbert_sub  roberta  roberta_sub  mlm  \n",
            "0      0          0        2            0    2  \n",
            "1      1          2        2            2    0  \n",
            "2      0          0        1            0    0  \n",
            "3      1          0        0            0    1  \n",
            "4      1          0        1            0    0  \n"
          ]
        }
      ]
    },
    {
      "cell_type": "code",
      "source": [
        "# stacked_pred=[]\n",
        "# for i in range(len(df_test['label'])):\n",
        "#   sample_input = np.array([\n",
        "#     df_test['sagor'][i],        # Assign value from 'sagor' column\n",
        "#     # df_test['sagor_sub'][i],    # Assign value from 'sagor_sub' column\n",
        "#     df_test['mbert'][i],        # Assign value from 'mbert' column\n",
        "#     # df_test['mbert_sub'][i],    # Assign value from 'mbert_sub' column\n",
        "#     df_test['roberta'][i],      # Assign value from 'roberta' column\n",
        "#     # df_test['roberta_sub'][i],  # Assign value from 'roberta_sub' column\n",
        "#     df_test['mlm'][i]           # Assign value from 'mlm' column\n",
        "#   ])\n",
        "#   # Example input with 3 features\n",
        "\n",
        "#   # 1. Preprocess the input data (apply the same preprocessing used during training)\n",
        "#   # ... (apply your preprocessing steps here if needed)\n",
        "\n",
        "#   # 2. Reshape the input data to create a batch of size 1\n",
        "#   sample_input = np.expand_dims(sample_input, axis=0)\n",
        "\n",
        "#   # 3. Use the model to make predictions\n",
        "#   predictions = best_model_macro_f1.predict(sample_input)\n",
        "#   # print(np.argmax(predictions))\n",
        "#   stacked_pred.append(np.argmax(predictions))"
      ],
      "metadata": {
        "id": "ZKkSZ9LI0z8M"
      },
      "execution_count": 74,
      "outputs": []
    },
    {
      "cell_type": "code",
      "source": [
        "import pandas as pd\n",
        "\n",
        "# Load each csv file into a separate dataframe\n",
        "df1 = df_mlm_test\n",
        "df2 = df_sagor_test\n",
        "df3 = df_sagor_sub_test\n",
        "df4 = df_mbert_test\n",
        "df5 = df_mbert_sub_test\n",
        "df6 = df_roberta_test\n",
        "df7 = df_roberta_sub_test\n",
        "\n",
        "# Extract the label columns from each dataframe\n",
        "label1 = df1.loc[1, 'label']\n",
        "label2 = df2.iloc[:, 0]\n",
        "label3 = df3.iloc[:, 0]\n",
        "label4 = df4.iloc[:, 0]\n",
        "label5 = df5.iloc[:, 0]\n",
        "label6 = df6.iloc[:, 0]\n",
        "label7 = df7.iloc[:, 0]\n",
        "\n",
        "preds=[]\n",
        "print(len(df1))\n",
        "for i in range(len(df1)):\n",
        "  l=[0,0,0]\n",
        "  label1 = df1.loc[i, 'label']\n",
        "  label2 = df2.loc[i, 'label']\n",
        "  label3 = df3.loc[i, 'label']\n",
        "  label4 = df4.loc[i, 'label']\n",
        "  label5 = df5.loc[i, 'label']\n",
        "  label6 = df6.loc[i, 'label']\n",
        "  label7 = df7.loc[i, 'label']\n",
        "  l[label1]+=3\n",
        "  l[label2]+=1\n",
        "  l[label3]+=1\n",
        "  l[label4]+=1\n",
        "  l[label5]+=1\n",
        "  l[label6]+=1\n",
        "  l[label7]+=1\n",
        "  preds.append(l.index(max(l)))\n",
        "print(preds)\n",
        "print(len(preds))"
      ],
      "metadata": {
        "colab": {
          "base_uri": "https://localhost:8080/"
        },
        "id": "4JNlH2Bv_qgq",
        "outputId": "f833f634-d5e4-44dc-e0a2-7811df9bb65a"
      },
      "execution_count": 75,
      "outputs": [
        {
          "output_type": "stream",
          "name": "stdout",
          "text": [
            "2016\n",
            "[2, 0, 0, 1, 0, 0, 0, 0, 0, 0, 0, 0, 1, 1, 0, 0, 1, 0, 0, 1, 1, 0, 0, 0, 1, 0, 1, 0, 0, 1, 2, 0, 0, 0, 0, 0, 2, 2, 0, 0, 1, 0, 1, 0, 0, 1, 0, 0, 1, 0, 1, 0, 1, 0, 0, 0, 0, 1, 1, 1, 0, 0, 0, 0, 0, 1, 1, 0, 0, 0, 0, 0, 0, 0, 0, 0, 0, 0, 0, 2, 1, 1, 1, 0, 1, 0, 0, 0, 0, 0, 1, 0, 0, 0, 0, 2, 0, 1, 2, 0, 0, 0, 0, 1, 0, 0, 1, 2, 0, 0, 0, 1, 0, 0, 1, 0, 1, 1, 0, 0, 0, 2, 1, 0, 0, 0, 1, 2, 0, 0, 0, 1, 0, 0, 0, 1, 0, 2, 1, 0, 0, 0, 0, 0, 1, 0, 1, 0, 1, 1, 1, 0, 0, 2, 0, 0, 1, 0, 0, 1, 0, 0, 1, 2, 1, 0, 0, 2, 1, 1, 1, 1, 0, 0, 1, 0, 0, 1, 0, 0, 1, 0, 1, 1, 0, 1, 0, 0, 0, 2, 1, 1, 1, 2, 0, 0, 1, 0, 1, 0, 0, 1, 0, 1, 2, 1, 1, 0, 0, 0, 1, 1, 1, 1, 1, 0, 0, 0, 0, 1, 2, 2, 0, 0, 0, 0, 1, 0, 0, 0, 1, 1, 0, 2, 0, 2, 0, 1, 0, 0, 1, 0, 0, 1, 1, 2, 1, 1, 0, 1, 0, 0, 0, 0, 0, 0, 0, 0, 1, 0, 0, 1, 2, 0, 1, 0, 0, 1, 1, 1, 0, 1, 1, 0, 1, 0, 0, 0, 1, 1, 1, 1, 0, 0, 0, 0, 0, 1, 0, 1, 0, 2, 1, 1, 0, 0, 0, 0, 0, 1, 0, 2, 1, 1, 0, 0, 0, 1, 2, 2, 1, 0, 0, 1, 0, 0, 0, 0, 0, 1, 0, 0, 2, 2, 0, 0, 2, 0, 1, 0, 1, 1, 0, 0, 1, 2, 0, 0, 0, 1, 0, 1, 0, 1, 1, 1, 0, 1, 2, 0, 0, 1, 1, 1, 0, 0, 2, 0, 0, 0, 0, 0, 1, 0, 0, 2, 0, 0, 1, 1, 0, 1, 0, 0, 0, 1, 1, 1, 0, 1, 0, 1, 1, 1, 1, 0, 1, 0, 0, 0, 0, 1, 0, 0, 2, 1, 0, 2, 1, 0, 0, 1, 2, 0, 0, 1, 2, 0, 1, 0, 0, 1, 1, 1, 1, 0, 0, 2, 2, 0, 0, 0, 1, 0, 1, 0, 0, 1, 0, 0, 0, 1, 0, 0, 1, 1, 2, 1, 0, 2, 1, 2, 1, 2, 0, 1, 0, 0, 0, 1, 1, 0, 1, 1, 1, 0, 1, 1, 1, 2, 2, 0, 2, 0, 0, 1, 0, 1, 1, 0, 0, 0, 0, 0, 1, 1, 1, 1, 1, 2, 0, 0, 1, 0, 1, 1, 2, 2, 1, 0, 1, 0, 0, 0, 2, 0, 0, 0, 2, 0, 0, 0, 0, 0, 0, 2, 0, 1, 2, 0, 0, 0, 1, 2, 1, 0, 1, 0, 0, 0, 0, 1, 0, 2, 0, 0, 0, 1, 0, 1, 1, 2, 0, 0, 0, 1, 1, 0, 0, 1, 0, 0, 1, 1, 1, 2, 0, 0, 0, 0, 0, 0, 1, 1, 1, 0, 2, 0, 0, 0, 0, 0, 0, 0, 0, 0, 0, 0, 1, 1, 0, 2, 0, 1, 1, 1, 0, 0, 0, 2, 1, 2, 0, 0, 0, 0, 0, 1, 0, 0, 0, 1, 1, 1, 2, 0, 0, 0, 1, 2, 2, 1, 0, 0, 1, 0, 0, 0, 1, 0, 1, 1, 0, 2, 1, 1, 0, 0, 1, 0, 0, 0, 0, 0, 0, 0, 0, 0, 0, 0, 1, 0, 0, 1, 1, 0, 2, 0, 1, 0, 1, 2, 0, 1, 2, 1, 0, 1, 0, 1, 0, 1, 2, 2, 0, 0, 0, 0, 1, 2, 0, 1, 0, 0, 1, 0, 0, 2, 0, 0, 0, 1, 1, 2, 1, 1, 0, 2, 0, 2, 0, 1, 0, 1, 0, 0, 0, 1, 2, 0, 0, 0, 0, 0, 0, 0, 1, 0, 2, 1, 0, 0, 0, 2, 0, 0, 1, 0, 0, 0, 2, 0, 1, 2, 1, 1, 1, 1, 1, 0, 0, 0, 0, 0, 0, 0, 1, 1, 0, 0, 0, 0, 0, 0, 1, 1, 1, 1, 0, 1, 0, 0, 0, 0, 0, 2, 1, 0, 0, 0, 0, 1, 0, 0, 0, 0, 2, 1, 1, 2, 0, 0, 1, 0, 2, 0, 0, 0, 0, 1, 2, 1, 0, 0, 0, 2, 1, 1, 0, 0, 1, 0, 0, 2, 0, 2, 2, 0, 0, 2, 0, 1, 0, 0, 0, 0, 0, 0, 0, 0, 0, 0, 0, 0, 0, 0, 0, 0, 0, 0, 1, 0, 0, 2, 0, 0, 0, 0, 2, 2, 0, 0, 0, 0, 2, 1, 0, 2, 0, 0, 0, 1, 0, 0, 0, 0, 1, 2, 0, 1, 0, 2, 2, 2, 1, 0, 0, 0, 0, 1, 0, 0, 2, 0, 0, 0, 0, 0, 0, 2, 2, 0, 0, 0, 0, 0, 0, 0, 2, 0, 0, 2, 2, 0, 0, 2, 0, 1, 2, 1, 0, 0, 2, 0, 2, 0, 0, 0, 2, 1, 0, 0, 0, 0, 0, 0, 0, 0, 2, 2, 0, 2, 1, 0, 0, 1, 0, 1, 0, 1, 2, 0, 1, 2, 0, 2, 0, 1, 2, 0, 0, 2, 0, 0, 0, 0, 0, 1, 0, 2, 2, 1, 0, 1, 1, 2, 2, 2, 0, 0, 0, 2, 0, 0, 0, 0, 0, 1, 0, 0, 0, 0, 2, 2, 0, 0, 0, 2, 2, 0, 2, 0, 0, 0, 1, 2, 0, 0, 0, 2, 0, 2, 0, 0, 0, 2, 2, 0, 0, 2, 0, 1, 2, 0, 0, 0, 0, 0, 0, 0, 0, 2, 1, 1, 0, 0, 2, 0, 2, 0, 1, 0, 0, 1, 0, 0, 0, 2, 0, 1, 1, 0, 0, 0, 0, 0, 0, 1, 0, 1, 0, 1, 0, 1, 2, 0, 0, 0, 0, 0, 0, 2, 1, 2, 2, 0, 0, 0, 0, 0, 0, 2, 1, 2, 0, 0, 1, 1, 0, 0, 0, 1, 1, 0, 0, 0, 2, 2, 0, 0, 0, 0, 2, 0, 0, 1, 0, 0, 0, 0, 1, 0, 0, 0, 0, 0, 0, 2, 2, 2, 0, 0, 2, 1, 1, 1, 0, 0, 0, 1, 0, 0, 0, 0, 0, 0, 2, 0, 0, 0, 2, 1, 1, 0, 2, 0, 1, 0, 0, 0, 0, 0, 0, 0, 1, 0, 0, 0, 0, 0, 0, 0, 0, 2, 0, 0, 2, 0, 0, 0, 0, 1, 0, 0, 0, 0, 1, 2, 0, 2, 2, 0, 0, 0, 0, 0, 0, 0, 1, 2, 0, 1, 1, 1, 0, 1, 1, 0, 0, 0, 0, 1, 1, 2, 2, 2, 0, 2, 0, 0, 0, 1, 1, 1, 1, 0, 2, 0, 2, 0, 0, 2, 0, 0, 0, 0, 0, 1, 0, 1, 2, 1, 0, 0, 0, 2, 0, 2, 2, 0, 0, 1, 0, 0, 0, 2, 0, 1, 0, 1, 0, 0, 0, 0, 0, 0, 0, 0, 2, 0, 2, 2, 0, 0, 0, 2, 1, 1, 0, 0, 0, 0, 0, 0, 0, 1, 0, 0, 0, 0, 0, 0, 0, 0, 0, 2, 0, 0, 0, 0, 0, 0, 0, 0, 0, 2, 0, 0, 0, 1, 0, 0, 1, 2, 2, 0, 0, 0, 0, 0, 0, 0, 2, 0, 0, 0, 0, 0, 0, 0, 0, 0, 2, 0, 0, 1, 1, 1, 0, 2, 2, 0, 0, 0, 0, 0, 0, 0, 2, 0, 0, 0, 0, 0, 0, 0, 0, 2, 2, 0, 1, 0, 1, 0, 1, 0, 0, 1, 1, 0, 2, 0, 0, 2, 2, 0, 2, 0, 0, 0, 0, 0, 1, 1, 0, 0, 1, 0, 0, 0, 0, 2, 0, 2, 1, 2, 2, 1, 0, 2, 0, 2, 0, 0, 0, 0, 0, 0, 1, 1, 0, 1, 0, 2, 0, 0, 2, 2, 2, 0, 2, 1, 0, 0, 0, 0, 1, 0, 0, 2, 2, 0, 0, 0, 0, 0, 2, 0, 1, 0, 0, 2, 2, 1, 0, 0, 0, 0, 2, 2, 0, 2, 0, 0, 2, 0, 1, 2, 1, 0, 0, 0, 2, 0, 0, 0, 1, 0, 0, 0, 0, 1, 2, 0, 0, 1, 2, 1, 0, 1, 0, 2, 1, 2, 1, 0, 0, 1, 0, 1, 0, 0, 0, 0, 0, 1, 0, 0, 0, 0, 1, 0, 0, 2, 0, 0, 0, 1, 2, 2, 0, 0, 2, 2, 0, 0, 0, 0, 0, 0, 2, 1, 0, 2, 1, 2, 1, 0, 2, 0, 1, 1, 2, 2, 0, 1, 0, 1, 2, 1, 0, 0, 2, 1, 0, 0, 0, 0, 1, 0, 0, 2, 0, 2, 2, 1, 0, 2, 0, 0, 0, 0, 1, 0, 2, 2, 1, 1, 0, 2, 0, 0, 0, 0, 0, 2, 1, 1, 1, 0, 0, 0, 0, 0, 0, 1, 2, 1, 1, 0, 0, 0, 0, 0, 1, 1, 0, 1, 0, 1, 2, 0, 0, 1, 0, 1, 0, 1, 2, 2, 1, 2, 0, 1, 0, 0, 0, 1, 1, 1, 2, 0, 0, 2, 0, 0, 0, 0, 1, 1, 1, 0, 0, 2, 0, 2, 0, 2, 2, 0, 0, 1, 0, 1, 0, 0, 0, 0, 0, 0, 0, 0, 0, 0, 0, 2, 0, 0, 0, 1, 0, 1, 0, 0, 0, 0, 1, 0, 0, 1, 0, 0, 0, 1, 0, 0, 0, 2, 0, 2, 2, 0, 0, 0, 1, 0, 0, 0, 0, 2, 1, 0, 0, 1, 0, 0, 0, 2, 1, 2, 0, 0, 2, 0, 0, 0, 0, 0, 0, 0, 0, 0, 0, 0, 1, 0, 0, 0, 0, 0, 0, 1, 0, 0, 0, 0, 0, 1, 0, 2, 1, 0, 0, 0, 0, 0, 0, 0, 0, 0, 0, 0, 0, 0, 0, 0, 0, 1, 0, 1, 0, 0, 1, 1, 0, 0, 0, 1, 0, 2, 0, 0, 0, 0, 0, 0, 0, 0, 0, 2, 0, 0, 0, 0, 0, 0, 0, 1, 1, 0, 0, 0, 0, 1, 0, 0, 0, 0, 0, 0, 1, 0, 0, 0, 2, 0, 0, 0, 0, 1, 0, 0, 0, 0, 0, 0, 0, 0, 0, 1, 0, 0, 0, 2, 0, 0, 0, 0, 0, 1, 0, 0, 0, 0, 0, 2, 0, 1, 0, 1, 0, 0, 0, 0, 0, 1, 0, 0, 0, 0, 1, 0, 0, 0, 1, 1, 0, 0, 0, 0, 2, 1, 0, 0, 0, 0, 0, 0, 0, 0, 1, 0, 0, 1, 0, 0, 0, 0, 0, 1, 0, 0, 0, 0, 0, 0, 1, 0, 0, 0, 0, 1, 0, 2, 0, 0, 0, 0, 0, 0, 1, 1, 1, 1, 0, 2, 0, 2, 1, 0, 0, 0, 0, 0, 1, 0, 2, 0, 0, 1, 1, 0, 1, 0, 1, 2, 0, 0, 0, 2, 0, 0, 0, 0, 0, 0, 0, 0, 0, 0, 0, 0, 0, 0, 0, 0, 0, 0, 0, 0, 0, 0, 0, 0, 0, 1, 0, 0, 1, 0, 0, 0, 0, 0, 0, 0, 0, 1, 0, 0, 0, 0, 1, 0, 2, 2, 0, 2, 2, 0, 0, 1, 0, 1, 1, 0, 2, 2, 0, 1, 0, 2, 0, 0, 1, 2, 2, 0, 0, 0, 0, 1, 0, 1, 0, 0, 0, 1, 1, 0, 0, 0, 2, 0, 0, 0, 1, 0, 0, 2, 0, 1, 0, 0, 0, 0, 0, 0, 2, 1, 0, 0, 2, 0, 0, 1, 0, 0, 1, 1, 0, 2, 1, 1, 1, 1, 2, 0, 1, 0, 1, 1, 0, 2, 2, 2, 0, 0, 0, 0, 1, 1, 0, 1, 0, 0, 1, 0, 0, 0, 0, 0, 1, 2, 2, 0]\n",
            "2016\n"
          ]
        }
      ]
    },
    {
      "cell_type": "code",
      "source": [
        "stacked_pred = preds\n",
        "\n",
        "tp = [0, 0, 0]\n",
        "tn = [0, 0, 0]\n",
        "fp = [0, 0, 0]\n",
        "fn = [0, 0, 0]\n",
        "\n",
        "for i in range(len(df_test['label'])):\n",
        "  for label in [0, 1, 2]:\n",
        "      if df_test['label'][i] == label and stacked_pred[i] == label:\n",
        "          tp[label] += 1\n",
        "      elif df_test['label'][i] != label and stacked_pred[i] != label:\n",
        "          tn[label] += 1\n",
        "      elif df_test['label'][i] != label and stacked_pred[i] == label:\n",
        "          fp[label] += 1\n",
        "      elif df_test['label'][i] == label and stacked_pred[i] != label:\n",
        "          fn[label] += 1\n",
        "\n",
        "for label in [0, 1, 2]:\n",
        "    print(f\"Label {label}:\")\n",
        "    print(f\"True Positives (TP): {tp[label]}\")\n",
        "    print(f\"True Negatives (TN): {tn[label]}\")\n",
        "    print(f\"False Positives (FP): {fp[label]}\")\n",
        "    print(f\"False Negatives (FN): {fn[label]}\")\n",
        "    print()"
      ],
      "metadata": {
        "colab": {
          "base_uri": "https://localhost:8080/"
        },
        "id": "Mw4MQXqV84V-",
        "outputId": "5f0e77f5-96fd-4af2-f75b-802fb27d8df9"
      },
      "execution_count": 76,
      "outputs": [
        {
          "output_type": "stream",
          "name": "stdout",
          "text": [
            "Label 0:\n",
            "True Positives (TP): 983\n",
            "True Negatives (TN): 658\n",
            "False Positives (FP): 262\n",
            "False Negatives (FN): 113\n",
            "\n",
            "Label 1:\n",
            "True Positives (TP): 403\n",
            "True Negatives (TN): 1222\n",
            "False Positives (FP): 75\n",
            "False Negatives (FN): 316\n",
            "\n",
            "Label 2:\n",
            "True Positives (TP): 157\n",
            "True Negatives (TN): 1679\n",
            "False Positives (FP): 136\n",
            "False Negatives (FN): 44\n",
            "\n"
          ]
        }
      ]
    },
    {
      "cell_type": "code",
      "source": [
        "f1 = []\n",
        "for label in [0, 1, 2]:\n",
        "    precision = tp[label] / (tp[label] + fp[label])\n",
        "    recall = tp[label] / (tp[label] + fn[label])\n",
        "    f1.append(2 * (precision * recall) / (precision + recall))\n",
        "\n",
        "# Calculate macro F1\n",
        "macro_f1 = sum(f1) / len(f1)\n",
        "\n",
        "print(f\"Test Macro F1: {macro_f1}\")"
      ],
      "metadata": {
        "colab": {
          "base_uri": "https://localhost:8080/"
        },
        "id": "kmaMEcwQ9sZb",
        "outputId": "2b60d200-81f1-4588-c0ae-085974820a59"
      },
      "execution_count": 77,
      "outputs": [
        {
          "output_type": "stream",
          "name": "stdout",
          "text": [
            "Test Macro F1: 0.7162632060898658\n"
          ]
        }
      ]
    },
    {
      "cell_type": "code",
      "source": [
        "stacked_df = pd.read_csv(\"test (3).csv\")\n",
        "stacked_df = stacked_df.drop(['label'], axis=1)\n",
        "print(stacked_df)"
      ],
      "metadata": {
        "colab": {
          "base_uri": "https://localhost:8080/"
        },
        "id": "8CVqWaAP2nfB",
        "outputId": "8c04b2a4-eff1-4e11-8978-96d8c12e19e7"
      },
      "execution_count": 78,
      "outputs": [
        {
          "output_type": "stream",
          "name": "stdout",
          "text": [
            "                                                   text\n",
            "0     বাংলাদেশের হিন্দুরা নিজেদের জন্য আলাদা হিন্দু ...\n",
            "1     মাইজদী - চৌমুহুনী - ফেনী মন্দিরে হামলা নিয়ে রি...\n",
            "2     দয়া করে পবিত্র কুরআনুল কারিম বলেন,,,,পবিত্র কথ...\n",
            "3     বিবিসি হলো সত্য কে বিনষ্টকারী আর মিথ্যা কে গ্র...\n",
            "4               বুধবার কি তোরা মারা গেছিলি বিবিসি বাংলা\n",
            "...                                                 ...\n",
            "2011  নিজের ধর্মের পরিধানটি কোনো ধর্ম স্থানেই ভালো ম...\n",
            "2012  হিন্দু মহিলাদের ওপরও বেদের মতে পর্দা করা আবশ্য...\n",
            "2013                           ভারত ধ্বংস হবে অতি দ্রুত\n",
            "2014  ভারতীয় উপমহাদেশে উপর আল্লাহর গজব নাজিল হোক আমি...\n",
            "2015  মুসলিম আল্লাহ চাড়া কাউকে ভয় করে না।। আল্লাহুআক...\n",
            "\n",
            "[2016 rows x 1 columns]\n"
          ]
        }
      ]
    },
    {
      "cell_type": "code",
      "source": [
        "stacked_df['label'] = stacked_pred\n",
        "print(stacked_df)\n",
        "stacked_df.to_csv('weigted_ensemble.csv')"
      ],
      "metadata": {
        "colab": {
          "base_uri": "https://localhost:8080/"
        },
        "id": "-zzqOWyI4Xy2",
        "outputId": "515945ee-eeb6-42c5-d85a-f42d0918c3a1"
      },
      "execution_count": 79,
      "outputs": [
        {
          "output_type": "stream",
          "name": "stdout",
          "text": [
            "                                                   text  label\n",
            "0     বাংলাদেশের হিন্দুরা নিজেদের জন্য আলাদা হিন্দু ...      2\n",
            "1     মাইজদী - চৌমুহুনী - ফেনী মন্দিরে হামলা নিয়ে রি...      0\n",
            "2     দয়া করে পবিত্র কুরআনুল কারিম বলেন,,,,পবিত্র কথ...      0\n",
            "3     বিবিসি হলো সত্য কে বিনষ্টকারী আর মিথ্যা কে গ্র...      1\n",
            "4               বুধবার কি তোরা মারা গেছিলি বিবিসি বাংলা      0\n",
            "...                                                 ...    ...\n",
            "2011  নিজের ধর্মের পরিধানটি কোনো ধর্ম স্থানেই ভালো ম...      0\n",
            "2012  হিন্দু মহিলাদের ওপরও বেদের মতে পর্দা করা আবশ্য...      1\n",
            "2013                           ভারত ধ্বংস হবে অতি দ্রুত      2\n",
            "2014  ভারতীয় উপমহাদেশে উপর আল্লাহর গজব নাজিল হোক আমি...      2\n",
            "2015  মুসলিম আল্লাহ চাড়া কাউকে ভয় করে না।। আল্লাহুআক...      0\n",
            "\n",
            "[2016 rows x 2 columns]\n"
          ]
        }
      ]
    },
    {
      "cell_type": "code",
      "source": [],
      "metadata": {
        "id": "PrC_5Zaf4ys7"
      },
      "execution_count": 79,
      "outputs": []
    }
  ]
}