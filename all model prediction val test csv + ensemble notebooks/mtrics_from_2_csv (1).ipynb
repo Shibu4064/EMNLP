{
  "cells": [
    {
      "cell_type": "code",
      "execution_count": null,
      "metadata": {
        "id": "HIWCMjWsNoRj"
      },
      "outputs": [],
      "source": [
        "import pandas as pd\n",
        "\n",
        "df_orig = pd.read_csv('/content/test (3).csv')\n",
        "df_pred = pd.read_csv('/content/roberta_test_sub.csv')"
      ]
    },
    {
      "cell_type": "code",
      "execution_count": null,
      "metadata": {
        "colab": {
          "base_uri": "https://localhost:8080/"
        },
        "id": "cLdN-1ApNzL9",
        "outputId": "ff0dce88-de8f-458b-fd74-d6c367774a3f"
      },
      "outputs": [
        {
          "name": "stdout",
          "output_type": "stream",
          "text": [
            "0       0\n",
            "1       0\n",
            "2       0\n",
            "3       1\n",
            "4       1\n",
            "       ..\n",
            "2011    2\n",
            "2012    1\n",
            "2013    0\n",
            "2014    2\n",
            "2015    0\n",
            "Name: label, Length: 2016, dtype: int64\n",
            "0       0\n",
            "1       2\n",
            "2       0\n",
            "3       0\n",
            "4       0\n",
            "       ..\n",
            "2011    0\n",
            "2012    0\n",
            "2013    2\n",
            "2014    0\n",
            "2015    0\n",
            "Name: label, Length: 2016, dtype: int64\n"
          ]
        }
      ],
      "source": [
        "orig_label = df_orig['label']\n",
        "pred_label = df_pred['label']\n",
        "print(orig_label)\n",
        "print(pred_label)"
      ]
    },
    {
      "cell_type": "code",
      "execution_count": null,
      "metadata": {
        "colab": {
          "base_uri": "https://localhost:8080/"
        },
        "id": "_-B2RiLZOXaU",
        "outputId": "002efa76-0970-4002-b3a1-995320739aca"
      },
      "outputs": [
        {
          "name": "stdout",
          "output_type": "stream",
          "text": [
            "Label 0:\n",
            "True Positives (TP): 1005\n",
            "True Negatives (TN): 405\n",
            "False Positives (FP): 515\n",
            "False Negatives (FN): 91\n",
            "\n",
            "Label 1:\n",
            "True Positives (TP): 194\n",
            "True Negatives (TN): 1247\n",
            "False Positives (FP): 50\n",
            "False Negatives (FN): 525\n",
            "\n",
            "Label 2:\n",
            "True Positives (TP): 117\n",
            "True Negatives (TN): 1680\n",
            "False Positives (FP): 135\n",
            "False Negatives (FN): 84\n",
            "\n"
          ]
        }
      ],
      "source": [
        "tp = [0, 0, 0]\n",
        "tn = [0, 0, 0]\n",
        "fp = [0, 0, 0]\n",
        "fn = [0, 0, 0]\n",
        "\n",
        "for i in range(len(orig_label)):\n",
        "  for label in [0, 1, 2]:\n",
        "      if orig_label[i] == label and pred_label[i] == label:\n",
        "          tp[label] += 1\n",
        "      elif orig_label[i] != label and pred_label[i] != label:\n",
        "          tn[label] += 1\n",
        "      elif orig_label[i] != label and pred_label[i] == label:\n",
        "          fp[label] += 1\n",
        "      elif orig_label[i] == label and pred_label[i] != label:\n",
        "          fn[label] += 1\n",
        "\n",
        "for label in [0, 1, 2]:\n",
        "    print(f\"Label {label}:\")\n",
        "    print(f\"True Positives (TP): {tp[label]}\")\n",
        "    print(f\"True Negatives (TN): {tn[label]}\")\n",
        "    print(f\"False Positives (FP): {fp[label]}\")\n",
        "    print(f\"False Negatives (FN): {fn[label]}\")\n",
        "    print()"
      ]
    },
    {
      "cell_type": "code",
      "execution_count": null,
      "metadata": {
        "colab": {
          "base_uri": "https://localhost:8080/"
        },
        "id": "T8gHqLL_TWwD",
        "outputId": "e309569b-fd23-45b5-e16f-d53e94e502e8"
      },
      "outputs": [
        {
          "name": "stdout",
          "output_type": "stream",
          "text": [
            "Macro F1: 0.5626041652405378\n"
          ]
        }
      ],
      "source": [
        "f1 = []\n",
        "for label in [0, 1, 2]:\n",
        "    precision = tp[label] / (tp[label] + fp[label])\n",
        "    recall = tp[label] / (tp[label] + fn[label])\n",
        "    f1.append(2 * (precision * recall) / (precision + recall))\n",
        "\n",
        "# Calculate macro F1\n",
        "macro_f1 = sum(f1) / len(f1)\n",
        "\n",
        "print(f\"Macro F1: {macro_f1}\")"
      ]
    },
    {
      "cell_type": "code",
      "execution_count": null,
      "metadata": {
        "id": "cOoODwZgea-n"
      },
      "outputs": [],
      "source": [
        "# Calculate micro-precision, micro-recall, and micro-F1\n",
        "micro_tp = sum(tp)\n",
        "micro_fp = sum(fp)\n",
        "micro_fn = sum(fn)\n",
        "\n",
        "micro_precision = micro_tp / (micro_tp + micro_fp)\n",
        "micro_recall = micro_tp / (micro_tp + micro_fn)\n",
        "micro_f1 = 2 * (micro_precision * micro_recall) / (micro_precision + micro_recall)\n",
        "\n",
        "# Print micro metrics\n",
        "print(f\"Micro Precision: {micro_precision}\")\n",
        "print(f\"Micro Recall: {micro_recall}\")\n",
        "print(f\"Micro F1: {micro_f1}\")"
      ]
    },
    {
      "cell_type": "code",
      "execution_count": null,
      "metadata": {},
      "outputs": [],
      "source": [
        "def macro_metrics(tp, fp, tn):\n",
        "  \"\"\"Calculates the macro precision and recall for tp, fp, and tn arrays of 3.\n",
        "\n",
        "  Args:\n",
        "    tp: A list of true positives for each label.\n",
        "    fp: A list of false positives for each label.\n",
        "    tn: A list of true negatives for each label.\n",
        "\n",
        "  Returns:\n",
        "    A dictionary containing the macro precision and recall.\n",
        "  \"\"\"\n",
        "\n",
        "  macro_precision = 0\n",
        "  macro_recall = 0\n",
        "\n",
        "  for label in range(len(tp)):\n",
        "    precision = tp[label] / (tp[label] + fp[label])\n",
        "    recall = tp[label] / (tp[label] + fn[label])\n",
        "\n",
        "    macro_precision += precision\n",
        "    macro_recall += recall\n",
        "\n",
        "  macro_precision /= len(tp)\n",
        "  macro_recall /= len(tp)\n",
        "\n",
        "  return {\n",
        "      \"precision\": macro_precision,\n",
        "      \"recall\": macro_recall,\n",
        "  }\n",
        "\n",
        "\n",
        "macro_metrics = macro_metrics(tp, fp, tn)\n",
        "\n",
        "print(f\"Macro precision: {macro_metrics['precision']}\")\n",
        "print(f\"Macro recall: {macro_metrics['recall']}\")\n"
      ]
    }
  ],
  "metadata": {
    "colab": {
      "provenance": []
    },
    "kernelspec": {
      "display_name": "Python 3",
      "name": "python3"
    },
    "language_info": {
      "name": "python"
    }
  },
  "nbformat": 4,
  "nbformat_minor": 0
}
